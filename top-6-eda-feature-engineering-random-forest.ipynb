{
 "cells": [
  {
   "cell_type": "markdown",
   "execution_count": null,
   "metadata": {},
   "source": [
    "# 1. Import libraries and data\n",
    "\n",
    "* Import Numpy and pandas for data manipulation\n",
    "* Import **sklearn** ensemble algorithms: *Bagging classifier* and *Random Forest classifier*\n",
    "* Import **sklearn** accuracy metric and StandardScaler (scales between 0 and 1)\n",
    "* Import chart utilities (matplotlib and seaborn)\n",
    "\n"
   ]
  },
  {
   "cell_type": "code",
   "execution_count": 1,
   "metadata": {
    "_cell_guid": "b1076dfc-b9ad-4769-8c92-a6c4dae69d19",
    "_uuid": "8f2839f25d086af736a60e9eeb907d3b93b6e0e5"
   },
   "outputs": [
    {
     "name": "stderr",
     "output_type": "stream",
     "text": [
      "Using TensorFlow backend.\n"
     ]
    }
   ],
   "source": [
    "import numpy as np \n",
    "import pandas as pd \n",
    "\n",
    "from sklearn.preprocessing import StandardScaler\n",
    "from sklearn.ensemble import BaggingClassifier, RandomForestClassifier\n",
    "from sklearn.metrics import accuracy_score\n",
    "from imblearn.datasets import make_imbalance\n",
    "from sklearn.model_selection import train_test_split\n",
    "\n",
    "import matplotlib.pyplot as plt\n",
    "import seaborn as sns\n",
    "%matplotlib inline\n",
    "sns.set()"
   ]
  },
  {
   "cell_type": "code",
   "execution_count": 2,
   "metadata": {
    "_cell_guid": "79c7e3d0-c299-4dcb-8224-4455121ee9b0",
    "_uuid": "d629ff2d2480ee46fbb7e2d37f6b5fab8052498a"
   },
   "outputs": [
    {
     "data": {
      "text/html": [
       "<div>\n",
       "<style scoped>\n",
       "    .dataframe tbody tr th:only-of-type {\n",
       "        vertical-align: middle;\n",
       "    }\n",
       "\n",
       "    .dataframe tbody tr th {\n",
       "        vertical-align: top;\n",
       "    }\n",
       "\n",
       "    .dataframe thead th {\n",
       "        text-align: right;\n",
       "    }\n",
       "</style>\n",
       "<table border=\"1\" class=\"dataframe\">\n",
       "  <thead>\n",
       "    <tr style=\"text-align: right;\">\n",
       "      <th></th>\n",
       "      <th>PassengerId</th>\n",
       "      <th>Survived</th>\n",
       "      <th>Pclass</th>\n",
       "      <th>Name</th>\n",
       "      <th>Sex</th>\n",
       "      <th>Age</th>\n",
       "      <th>SibSp</th>\n",
       "      <th>Parch</th>\n",
       "      <th>Ticket</th>\n",
       "      <th>Fare</th>\n",
       "      <th>Cabin</th>\n",
       "      <th>Embarked</th>\n",
       "    </tr>\n",
       "  </thead>\n",
       "  <tbody>\n",
       "    <tr>\n",
       "      <th>0</th>\n",
       "      <td>1</td>\n",
       "      <td>0</td>\n",
       "      <td>3</td>\n",
       "      <td>Braund, Mr. Owen Harris</td>\n",
       "      <td>male</td>\n",
       "      <td>22.0</td>\n",
       "      <td>1</td>\n",
       "      <td>0</td>\n",
       "      <td>A/5 21171</td>\n",
       "      <td>7.2500</td>\n",
       "      <td>NaN</td>\n",
       "      <td>S</td>\n",
       "    </tr>\n",
       "    <tr>\n",
       "      <th>1</th>\n",
       "      <td>2</td>\n",
       "      <td>1</td>\n",
       "      <td>1</td>\n",
       "      <td>Cumings, Mrs. John Bradley (Florence Briggs Th...</td>\n",
       "      <td>female</td>\n",
       "      <td>38.0</td>\n",
       "      <td>1</td>\n",
       "      <td>0</td>\n",
       "      <td>PC 17599</td>\n",
       "      <td>71.2833</td>\n",
       "      <td>C85</td>\n",
       "      <td>C</td>\n",
       "    </tr>\n",
       "    <tr>\n",
       "      <th>2</th>\n",
       "      <td>3</td>\n",
       "      <td>1</td>\n",
       "      <td>3</td>\n",
       "      <td>Heikkinen, Miss. Laina</td>\n",
       "      <td>female</td>\n",
       "      <td>26.0</td>\n",
       "      <td>0</td>\n",
       "      <td>0</td>\n",
       "      <td>STON/O2. 3101282</td>\n",
       "      <td>7.9250</td>\n",
       "      <td>NaN</td>\n",
       "      <td>S</td>\n",
       "    </tr>\n",
       "    <tr>\n",
       "      <th>3</th>\n",
       "      <td>4</td>\n",
       "      <td>1</td>\n",
       "      <td>1</td>\n",
       "      <td>Futrelle, Mrs. Jacques Heath (Lily May Peel)</td>\n",
       "      <td>female</td>\n",
       "      <td>35.0</td>\n",
       "      <td>1</td>\n",
       "      <td>0</td>\n",
       "      <td>113803</td>\n",
       "      <td>53.1000</td>\n",
       "      <td>C123</td>\n",
       "      <td>S</td>\n",
       "    </tr>\n",
       "    <tr>\n",
       "      <th>4</th>\n",
       "      <td>5</td>\n",
       "      <td>0</td>\n",
       "      <td>3</td>\n",
       "      <td>Allen, Mr. William Henry</td>\n",
       "      <td>male</td>\n",
       "      <td>35.0</td>\n",
       "      <td>0</td>\n",
       "      <td>0</td>\n",
       "      <td>373450</td>\n",
       "      <td>8.0500</td>\n",
       "      <td>NaN</td>\n",
       "      <td>S</td>\n",
       "    </tr>\n",
       "  </tbody>\n",
       "</table>\n",
       "</div>"
      ],
      "text/plain": [
       "   PassengerId  Survived  Pclass  \\\n",
       "0            1         0       3   \n",
       "1            2         1       1   \n",
       "2            3         1       3   \n",
       "3            4         1       1   \n",
       "4            5         0       3   \n",
       "\n",
       "                                                Name     Sex   Age  SibSp  \\\n",
       "0                            Braund, Mr. Owen Harris    male  22.0      1   \n",
       "1  Cumings, Mrs. John Bradley (Florence Briggs Th...  female  38.0      1   \n",
       "2                             Heikkinen, Miss. Laina  female  26.0      0   \n",
       "3       Futrelle, Mrs. Jacques Heath (Lily May Peel)  female  35.0      1   \n",
       "4                           Allen, Mr. William Henry    male  35.0      0   \n",
       "\n",
       "   Parch            Ticket     Fare Cabin Embarked  \n",
       "0      0         A/5 21171   7.2500   NaN        S  \n",
       "1      0          PC 17599  71.2833   C85        C  \n",
       "2      0  STON/O2. 3101282   7.9250   NaN        S  \n",
       "3      0            113803  53.1000  C123        S  \n",
       "4      0            373450   8.0500   NaN        S  "
      ]
     },
     "execution_count": 2,
     "metadata": {},
     "output_type": "execute_result"
    }
   ],
   "source": [
    "test = pd.read_csv(\"/kaggle/input/titanic/test.csv\")\n",
    "train =  pd.read_csv(\"/kaggle/input/titanic/train.csv\")\n",
    "sample = pd.read_csv(\"/kaggle/input/titanic/gender_submission.csv\")\n",
    "train.head()"
   ]
  },
  {
   "cell_type": "code",
   "execution_count": 3,
   "metadata": {},
   "outputs": [
    {
     "name": "stdout",
     "output_type": "stream",
     "text": [
      "<class 'pandas.core.frame.DataFrame'>\n",
      "RangeIndex: 891 entries, 0 to 890\n",
      "Data columns (total 12 columns):\n",
      "PassengerId    891 non-null int64\n",
      "Survived       891 non-null int64\n",
      "Pclass         891 non-null int64\n",
      "Name           891 non-null object\n",
      "Sex            891 non-null object\n",
      "Age            714 non-null float64\n",
      "SibSp          891 non-null int64\n",
      "Parch          891 non-null int64\n",
      "Ticket         891 non-null object\n",
      "Fare           891 non-null float64\n",
      "Cabin          204 non-null object\n",
      "Embarked       889 non-null object\n",
      "dtypes: float64(2), int64(5), object(5)\n",
      "memory usage: 83.7+ KB\n"
     ]
    }
   ],
   "source": [
    "train.info()"
   ]
  },
  {
   "cell_type": "code",
   "execution_count": 4,
   "metadata": {},
   "outputs": [
    {
     "data": {
      "text/html": [
       "<div>\n",
       "<style scoped>\n",
       "    .dataframe tbody tr th:only-of-type {\n",
       "        vertical-align: middle;\n",
       "    }\n",
       "\n",
       "    .dataframe tbody tr th {\n",
       "        vertical-align: top;\n",
       "    }\n",
       "\n",
       "    .dataframe thead th {\n",
       "        text-align: right;\n",
       "    }\n",
       "</style>\n",
       "<table border=\"1\" class=\"dataframe\">\n",
       "  <thead>\n",
       "    <tr style=\"text-align: right;\">\n",
       "      <th></th>\n",
       "      <th>PassengerId</th>\n",
       "      <th>Survived</th>\n",
       "      <th>Pclass</th>\n",
       "      <th>Age</th>\n",
       "      <th>SibSp</th>\n",
       "      <th>Parch</th>\n",
       "      <th>Fare</th>\n",
       "    </tr>\n",
       "  </thead>\n",
       "  <tbody>\n",
       "    <tr>\n",
       "      <th>count</th>\n",
       "      <td>891.000000</td>\n",
       "      <td>891.000000</td>\n",
       "      <td>891.000000</td>\n",
       "      <td>714.000000</td>\n",
       "      <td>891.000000</td>\n",
       "      <td>891.000000</td>\n",
       "      <td>891.000000</td>\n",
       "    </tr>\n",
       "    <tr>\n",
       "      <th>mean</th>\n",
       "      <td>446.000000</td>\n",
       "      <td>0.383838</td>\n",
       "      <td>2.308642</td>\n",
       "      <td>29.699118</td>\n",
       "      <td>0.523008</td>\n",
       "      <td>0.381594</td>\n",
       "      <td>32.204208</td>\n",
       "    </tr>\n",
       "    <tr>\n",
       "      <th>std</th>\n",
       "      <td>257.353842</td>\n",
       "      <td>0.486592</td>\n",
       "      <td>0.836071</td>\n",
       "      <td>14.526497</td>\n",
       "      <td>1.102743</td>\n",
       "      <td>0.806057</td>\n",
       "      <td>49.693429</td>\n",
       "    </tr>\n",
       "    <tr>\n",
       "      <th>min</th>\n",
       "      <td>1.000000</td>\n",
       "      <td>0.000000</td>\n",
       "      <td>1.000000</td>\n",
       "      <td>0.420000</td>\n",
       "      <td>0.000000</td>\n",
       "      <td>0.000000</td>\n",
       "      <td>0.000000</td>\n",
       "    </tr>\n",
       "    <tr>\n",
       "      <th>25%</th>\n",
       "      <td>223.500000</td>\n",
       "      <td>0.000000</td>\n",
       "      <td>2.000000</td>\n",
       "      <td>20.125000</td>\n",
       "      <td>0.000000</td>\n",
       "      <td>0.000000</td>\n",
       "      <td>7.910400</td>\n",
       "    </tr>\n",
       "    <tr>\n",
       "      <th>50%</th>\n",
       "      <td>446.000000</td>\n",
       "      <td>0.000000</td>\n",
       "      <td>3.000000</td>\n",
       "      <td>28.000000</td>\n",
       "      <td>0.000000</td>\n",
       "      <td>0.000000</td>\n",
       "      <td>14.454200</td>\n",
       "    </tr>\n",
       "    <tr>\n",
       "      <th>75%</th>\n",
       "      <td>668.500000</td>\n",
       "      <td>1.000000</td>\n",
       "      <td>3.000000</td>\n",
       "      <td>38.000000</td>\n",
       "      <td>1.000000</td>\n",
       "      <td>0.000000</td>\n",
       "      <td>31.000000</td>\n",
       "    </tr>\n",
       "    <tr>\n",
       "      <th>max</th>\n",
       "      <td>891.000000</td>\n",
       "      <td>1.000000</td>\n",
       "      <td>3.000000</td>\n",
       "      <td>80.000000</td>\n",
       "      <td>8.000000</td>\n",
       "      <td>6.000000</td>\n",
       "      <td>512.329200</td>\n",
       "    </tr>\n",
       "  </tbody>\n",
       "</table>\n",
       "</div>"
      ],
      "text/plain": [
       "       PassengerId    Survived      Pclass         Age       SibSp  \\\n",
       "count   891.000000  891.000000  891.000000  714.000000  891.000000   \n",
       "mean    446.000000    0.383838    2.308642   29.699118    0.523008   \n",
       "std     257.353842    0.486592    0.836071   14.526497    1.102743   \n",
       "min       1.000000    0.000000    1.000000    0.420000    0.000000   \n",
       "25%     223.500000    0.000000    2.000000   20.125000    0.000000   \n",
       "50%     446.000000    0.000000    3.000000   28.000000    0.000000   \n",
       "75%     668.500000    1.000000    3.000000   38.000000    1.000000   \n",
       "max     891.000000    1.000000    3.000000   80.000000    8.000000   \n",
       "\n",
       "            Parch        Fare  \n",
       "count  891.000000  891.000000  \n",
       "mean     0.381594   32.204208  \n",
       "std      0.806057   49.693429  \n",
       "min      0.000000    0.000000  \n",
       "25%      0.000000    7.910400  \n",
       "50%      0.000000   14.454200  \n",
       "75%      0.000000   31.000000  \n",
       "max      6.000000  512.329200  "
      ]
     },
     "execution_count": 4,
     "metadata": {},
     "output_type": "execute_result"
    }
   ],
   "source": [
    "train.describe()"
   ]
  },
  {
   "cell_type": "code",
   "execution_count": 5,
   "metadata": {},
   "outputs": [
    {
     "data": {
      "text/plain": [
       "PassengerId      0\n",
       "Survived         0\n",
       "Pclass           0\n",
       "Name             0\n",
       "Sex              0\n",
       "Age            177\n",
       "SibSp            0\n",
       "Parch            0\n",
       "Ticket           0\n",
       "Fare             0\n",
       "Cabin          687\n",
       "Embarked         2\n",
       "dtype: int64"
      ]
     },
     "execution_count": 5,
     "metadata": {},
     "output_type": "execute_result"
    }
   ],
   "source": [
    "train.isnull().sum()"
   ]
  },
  {
   "cell_type": "markdown",
   "execution_count": null,
   "metadata": {},
   "source": [
    "### 1.1. Concatenate the train and test data"
   ]
  },
  {
   "cell_type": "code",
   "execution_count": 6,
   "metadata": {},
   "outputs": [
    {
     "data": {
      "text/html": [
       "<div>\n",
       "<style scoped>\n",
       "    .dataframe tbody tr th:only-of-type {\n",
       "        vertical-align: middle;\n",
       "    }\n",
       "\n",
       "    .dataframe tbody tr th {\n",
       "        vertical-align: top;\n",
       "    }\n",
       "\n",
       "    .dataframe thead th {\n",
       "        text-align: right;\n",
       "    }\n",
       "</style>\n",
       "<table border=\"1\" class=\"dataframe\">\n",
       "  <thead>\n",
       "    <tr style=\"text-align: right;\">\n",
       "      <th></th>\n",
       "      <th>PassengerId</th>\n",
       "      <th>Survived</th>\n",
       "      <th>Pclass</th>\n",
       "      <th>Name</th>\n",
       "      <th>Sex</th>\n",
       "      <th>Age</th>\n",
       "      <th>SibSp</th>\n",
       "      <th>Parch</th>\n",
       "      <th>Ticket</th>\n",
       "      <th>Fare</th>\n",
       "      <th>Cabin</th>\n",
       "      <th>Embarked</th>\n",
       "    </tr>\n",
       "  </thead>\n",
       "  <tbody>\n",
       "    <tr>\n",
       "      <th>0</th>\n",
       "      <td>1</td>\n",
       "      <td>0.0</td>\n",
       "      <td>3</td>\n",
       "      <td>Braund, Mr. Owen Harris</td>\n",
       "      <td>male</td>\n",
       "      <td>22.0</td>\n",
       "      <td>1</td>\n",
       "      <td>0</td>\n",
       "      <td>A/5 21171</td>\n",
       "      <td>7.2500</td>\n",
       "      <td>NaN</td>\n",
       "      <td>S</td>\n",
       "    </tr>\n",
       "    <tr>\n",
       "      <th>1</th>\n",
       "      <td>2</td>\n",
       "      <td>1.0</td>\n",
       "      <td>1</td>\n",
       "      <td>Cumings, Mrs. John Bradley (Florence Briggs Th...</td>\n",
       "      <td>female</td>\n",
       "      <td>38.0</td>\n",
       "      <td>1</td>\n",
       "      <td>0</td>\n",
       "      <td>PC 17599</td>\n",
       "      <td>71.2833</td>\n",
       "      <td>C85</td>\n",
       "      <td>C</td>\n",
       "    </tr>\n",
       "    <tr>\n",
       "      <th>2</th>\n",
       "      <td>3</td>\n",
       "      <td>1.0</td>\n",
       "      <td>3</td>\n",
       "      <td>Heikkinen, Miss. Laina</td>\n",
       "      <td>female</td>\n",
       "      <td>26.0</td>\n",
       "      <td>0</td>\n",
       "      <td>0</td>\n",
       "      <td>STON/O2. 3101282</td>\n",
       "      <td>7.9250</td>\n",
       "      <td>NaN</td>\n",
       "      <td>S</td>\n",
       "    </tr>\n",
       "    <tr>\n",
       "      <th>3</th>\n",
       "      <td>4</td>\n",
       "      <td>1.0</td>\n",
       "      <td>1</td>\n",
       "      <td>Futrelle, Mrs. Jacques Heath (Lily May Peel)</td>\n",
       "      <td>female</td>\n",
       "      <td>35.0</td>\n",
       "      <td>1</td>\n",
       "      <td>0</td>\n",
       "      <td>113803</td>\n",
       "      <td>53.1000</td>\n",
       "      <td>C123</td>\n",
       "      <td>S</td>\n",
       "    </tr>\n",
       "    <tr>\n",
       "      <th>4</th>\n",
       "      <td>5</td>\n",
       "      <td>0.0</td>\n",
       "      <td>3</td>\n",
       "      <td>Allen, Mr. William Henry</td>\n",
       "      <td>male</td>\n",
       "      <td>35.0</td>\n",
       "      <td>0</td>\n",
       "      <td>0</td>\n",
       "      <td>373450</td>\n",
       "      <td>8.0500</td>\n",
       "      <td>NaN</td>\n",
       "      <td>S</td>\n",
       "    </tr>\n",
       "    <tr>\n",
       "      <th>...</th>\n",
       "      <td>...</td>\n",
       "      <td>...</td>\n",
       "      <td>...</td>\n",
       "      <td>...</td>\n",
       "      <td>...</td>\n",
       "      <td>...</td>\n",
       "      <td>...</td>\n",
       "      <td>...</td>\n",
       "      <td>...</td>\n",
       "      <td>...</td>\n",
       "      <td>...</td>\n",
       "      <td>...</td>\n",
       "    </tr>\n",
       "    <tr>\n",
       "      <th>1304</th>\n",
       "      <td>1305</td>\n",
       "      <td>NaN</td>\n",
       "      <td>3</td>\n",
       "      <td>Spector, Mr. Woolf</td>\n",
       "      <td>male</td>\n",
       "      <td>NaN</td>\n",
       "      <td>0</td>\n",
       "      <td>0</td>\n",
       "      <td>A.5. 3236</td>\n",
       "      <td>8.0500</td>\n",
       "      <td>NaN</td>\n",
       "      <td>S</td>\n",
       "    </tr>\n",
       "    <tr>\n",
       "      <th>1305</th>\n",
       "      <td>1306</td>\n",
       "      <td>NaN</td>\n",
       "      <td>1</td>\n",
       "      <td>Oliva y Ocana, Dona. Fermina</td>\n",
       "      <td>female</td>\n",
       "      <td>39.0</td>\n",
       "      <td>0</td>\n",
       "      <td>0</td>\n",
       "      <td>PC 17758</td>\n",
       "      <td>108.9000</td>\n",
       "      <td>C105</td>\n",
       "      <td>C</td>\n",
       "    </tr>\n",
       "    <tr>\n",
       "      <th>1306</th>\n",
       "      <td>1307</td>\n",
       "      <td>NaN</td>\n",
       "      <td>3</td>\n",
       "      <td>Saether, Mr. Simon Sivertsen</td>\n",
       "      <td>male</td>\n",
       "      <td>38.5</td>\n",
       "      <td>0</td>\n",
       "      <td>0</td>\n",
       "      <td>SOTON/O.Q. 3101262</td>\n",
       "      <td>7.2500</td>\n",
       "      <td>NaN</td>\n",
       "      <td>S</td>\n",
       "    </tr>\n",
       "    <tr>\n",
       "      <th>1307</th>\n",
       "      <td>1308</td>\n",
       "      <td>NaN</td>\n",
       "      <td>3</td>\n",
       "      <td>Ware, Mr. Frederick</td>\n",
       "      <td>male</td>\n",
       "      <td>NaN</td>\n",
       "      <td>0</td>\n",
       "      <td>0</td>\n",
       "      <td>359309</td>\n",
       "      <td>8.0500</td>\n",
       "      <td>NaN</td>\n",
       "      <td>S</td>\n",
       "    </tr>\n",
       "    <tr>\n",
       "      <th>1308</th>\n",
       "      <td>1309</td>\n",
       "      <td>NaN</td>\n",
       "      <td>3</td>\n",
       "      <td>Peter, Master. Michael J</td>\n",
       "      <td>male</td>\n",
       "      <td>NaN</td>\n",
       "      <td>1</td>\n",
       "      <td>1</td>\n",
       "      <td>2668</td>\n",
       "      <td>22.3583</td>\n",
       "      <td>NaN</td>\n",
       "      <td>C</td>\n",
       "    </tr>\n",
       "  </tbody>\n",
       "</table>\n",
       "<p>1309 rows × 12 columns</p>\n",
       "</div>"
      ],
      "text/plain": [
       "      PassengerId  Survived  Pclass  \\\n",
       "0               1       0.0       3   \n",
       "1               2       1.0       1   \n",
       "2               3       1.0       3   \n",
       "3               4       1.0       1   \n",
       "4               5       0.0       3   \n",
       "...           ...       ...     ...   \n",
       "1304         1305       NaN       3   \n",
       "1305         1306       NaN       1   \n",
       "1306         1307       NaN       3   \n",
       "1307         1308       NaN       3   \n",
       "1308         1309       NaN       3   \n",
       "\n",
       "                                                   Name     Sex   Age  SibSp  \\\n",
       "0                               Braund, Mr. Owen Harris    male  22.0      1   \n",
       "1     Cumings, Mrs. John Bradley (Florence Briggs Th...  female  38.0      1   \n",
       "2                                Heikkinen, Miss. Laina  female  26.0      0   \n",
       "3          Futrelle, Mrs. Jacques Heath (Lily May Peel)  female  35.0      1   \n",
       "4                              Allen, Mr. William Henry    male  35.0      0   \n",
       "...                                                 ...     ...   ...    ...   \n",
       "1304                                 Spector, Mr. Woolf    male   NaN      0   \n",
       "1305                       Oliva y Ocana, Dona. Fermina  female  39.0      0   \n",
       "1306                       Saether, Mr. Simon Sivertsen    male  38.5      0   \n",
       "1307                                Ware, Mr. Frederick    male   NaN      0   \n",
       "1308                           Peter, Master. Michael J    male   NaN      1   \n",
       "\n",
       "      Parch              Ticket      Fare Cabin Embarked  \n",
       "0         0           A/5 21171    7.2500   NaN        S  \n",
       "1         0            PC 17599   71.2833   C85        C  \n",
       "2         0    STON/O2. 3101282    7.9250   NaN        S  \n",
       "3         0              113803   53.1000  C123        S  \n",
       "4         0              373450    8.0500   NaN        S  \n",
       "...     ...                 ...       ...   ...      ...  \n",
       "1304      0           A.5. 3236    8.0500   NaN        S  \n",
       "1305      0            PC 17758  108.9000  C105        C  \n",
       "1306      0  SOTON/O.Q. 3101262    7.2500   NaN        S  \n",
       "1307      0              359309    8.0500   NaN        S  \n",
       "1308      1                2668   22.3583   NaN        C  \n",
       "\n",
       "[1309 rows x 12 columns]"
      ]
     },
     "execution_count": 6,
     "metadata": {},
     "output_type": "execute_result"
    }
   ],
   "source": [
    "df_len = len(train)\n",
    "df_all = pd.concat([train, test], sort=False, ignore_index=True)\n",
    "df_all"
   ]
  },
  {
   "cell_type": "markdown",
   "execution_count": null,
   "metadata": {},
   "source": [
    "# 2. EDA (Exploratory Data Analysis)\n",
    "\n",
    "* First, we'll look at the missing data\n",
    "* Then we'll look at the proportion of who survived and who didn't survived \n",
    "* After the **feature engineering** we can plot some more charts"
   ]
  },
  {
   "cell_type": "code",
   "execution_count": 7,
   "metadata": {},
   "outputs": [
    {
     "data": {
      "text/plain": [
       "<matplotlib.axes._subplots.AxesSubplot at 0x7f63c0393710>"
      ]
     },
     "execution_count": 7,
     "metadata": {},
     "output_type": "execute_result"
    },
    {
     "data": {
      "image/png": "[encoded data removed]",
      "text/plain": [
       "<Figure size 432x288 with 1 Axes>"
      ]
     },
     "metadata": {},
     "output_type": "display_data"
    }
   ],
   "source": [
    "df_all.boxplot(column=['SibSp', 'Parch'])"
   ]
  },
  {
   "cell_type": "markdown",
   "execution_count": null,
   "metadata": {},
   "source": [
    "Looking at the **Parch** (Parent and children) and **Sibsp** (Sibling and spouse), we can see all the values  greater than 6 that look like outliers are actually from all the *Sage* family."
   ]
  },
  {
   "cell_type": "code",
   "execution_count": 8,
   "metadata": {},
   "outputs": [
    {
     "data": {
      "text/html": [
       "<style  type=\"text/css\" >\n",
       "    #T_81d1ba56_9baa_11ea_b27a_0242ac130202row0_col7 {\n",
       "            background-color:  #440154;\n",
       "            color:  #f1f1f1;\n",
       "        }    #T_81d1ba56_9baa_11ea_b27a_0242ac130202row1_col7 {\n",
       "            background-color:  #440154;\n",
       "            color:  #f1f1f1;\n",
       "        }</style><table id=\"T_81d1ba56_9baa_11ea_b27a_0242ac130202\" ><thead>    <tr>        <th class=\"blank level0\" ></th>        <th class=\"col_heading level0 col0\" >PassengerId</th>        <th class=\"col_heading level0 col1\" >Survived</th>        <th class=\"col_heading level0 col2\" >Pclass</th>        <th class=\"col_heading level0 col3\" >Name</th>        <th class=\"col_heading level0 col4\" >Sex</th>        <th class=\"col_heading level0 col5\" >Age</th>        <th class=\"col_heading level0 col6\" >SibSp</th>        <th class=\"col_heading level0 col7\" >Parch</th>        <th class=\"col_heading level0 col8\" >Ticket</th>        <th class=\"col_heading level0 col9\" >Fare</th>        <th class=\"col_heading level0 col10\" >Cabin</th>        <th class=\"col_heading level0 col11\" >Embarked</th>    </tr></thead><tbody>\n",
       "                <tr>\n",
       "                        <th id=\"T_81d1ba56_9baa_11ea_b27a_0242ac130202level0_row0\" class=\"row_heading level0 row0\" >1233</th>\n",
       "                        <td id=\"T_81d1ba56_9baa_11ea_b27a_0242ac130202row0_col0\" class=\"data row0 col0\" >1234</td>\n",
       "                        <td id=\"T_81d1ba56_9baa_11ea_b27a_0242ac130202row0_col1\" class=\"data row0 col1\" >nan</td>\n",
       "                        <td id=\"T_81d1ba56_9baa_11ea_b27a_0242ac130202row0_col2\" class=\"data row0 col2\" >3</td>\n",
       "                        <td id=\"T_81d1ba56_9baa_11ea_b27a_0242ac130202row0_col3\" class=\"data row0 col3\" >Sage, Mr. John George</td>\n",
       "                        <td id=\"T_81d1ba56_9baa_11ea_b27a_0242ac130202row0_col4\" class=\"data row0 col4\" >male</td>\n",
       "                        <td id=\"T_81d1ba56_9baa_11ea_b27a_0242ac130202row0_col5\" class=\"data row0 col5\" >nan</td>\n",
       "                        <td id=\"T_81d1ba56_9baa_11ea_b27a_0242ac130202row0_col6\" class=\"data row0 col6\" >1</td>\n",
       "                        <td id=\"T_81d1ba56_9baa_11ea_b27a_0242ac130202row0_col7\" class=\"data row0 col7\" >9</td>\n",
       "                        <td id=\"T_81d1ba56_9baa_11ea_b27a_0242ac130202row0_col8\" class=\"data row0 col8\" >CA. 2343</td>\n",
       "                        <td id=\"T_81d1ba56_9baa_11ea_b27a_0242ac130202row0_col9\" class=\"data row0 col9\" >69.55</td>\n",
       "                        <td id=\"T_81d1ba56_9baa_11ea_b27a_0242ac130202row0_col10\" class=\"data row0 col10\" >nan</td>\n",
       "                        <td id=\"T_81d1ba56_9baa_11ea_b27a_0242ac130202row0_col11\" class=\"data row0 col11\" >S</td>\n",
       "            </tr>\n",
       "            <tr>\n",
       "                        <th id=\"T_81d1ba56_9baa_11ea_b27a_0242ac130202level0_row1\" class=\"row_heading level0 row1\" >1256</th>\n",
       "                        <td id=\"T_81d1ba56_9baa_11ea_b27a_0242ac130202row1_col0\" class=\"data row1 col0\" >1257</td>\n",
       "                        <td id=\"T_81d1ba56_9baa_11ea_b27a_0242ac130202row1_col1\" class=\"data row1 col1\" >nan</td>\n",
       "                        <td id=\"T_81d1ba56_9baa_11ea_b27a_0242ac130202row1_col2\" class=\"data row1 col2\" >3</td>\n",
       "                        <td id=\"T_81d1ba56_9baa_11ea_b27a_0242ac130202row1_col3\" class=\"data row1 col3\" >Sage, Mrs. John (Annie Bullen)</td>\n",
       "                        <td id=\"T_81d1ba56_9baa_11ea_b27a_0242ac130202row1_col4\" class=\"data row1 col4\" >female</td>\n",
       "                        <td id=\"T_81d1ba56_9baa_11ea_b27a_0242ac130202row1_col5\" class=\"data row1 col5\" >nan</td>\n",
       "                        <td id=\"T_81d1ba56_9baa_11ea_b27a_0242ac130202row1_col6\" class=\"data row1 col6\" >1</td>\n",
       "                        <td id=\"T_81d1ba56_9baa_11ea_b27a_0242ac130202row1_col7\" class=\"data row1 col7\" >9</td>\n",
       "                        <td id=\"T_81d1ba56_9baa_11ea_b27a_0242ac130202row1_col8\" class=\"data row1 col8\" >CA. 2343</td>\n",
       "                        <td id=\"T_81d1ba56_9baa_11ea_b27a_0242ac130202row1_col9\" class=\"data row1 col9\" >69.55</td>\n",
       "                        <td id=\"T_81d1ba56_9baa_11ea_b27a_0242ac130202row1_col10\" class=\"data row1 col10\" >nan</td>\n",
       "                        <td id=\"T_81d1ba56_9baa_11ea_b27a_0242ac130202row1_col11\" class=\"data row1 col11\" >S</td>\n",
       "            </tr>\n",
       "    </tbody></table>"
      ],
      "text/plain": [
       "<pandas.io.formats.style.Styler at 0x7f63be258ef0>"
      ]
     },
     "execution_count": 8,
     "metadata": {},
     "output_type": "execute_result"
    }
   ],
   "source": [
    "df_all[df_all['Parch']> 6].style.background_gradient(cmap='viridis', subset=['Parch'])"
   ]
  },
  {
   "cell_type": "code",
   "execution_count": 9,
   "metadata": {},
   "outputs": [
    {
     "data": {
      "text/html": [
       "<style  type=\"text/css\" >\n",
       "    #T_81d5e400_9baa_11ea_b27a_0242ac130202row0_col6 {\n",
       "            background-color:  #440154;\n",
       "            color:  #f1f1f1;\n",
       "        }    #T_81d5e400_9baa_11ea_b27a_0242ac130202row1_col6 {\n",
       "            background-color:  #440154;\n",
       "            color:  #f1f1f1;\n",
       "        }    #T_81d5e400_9baa_11ea_b27a_0242ac130202row2_col6 {\n",
       "            background-color:  #440154;\n",
       "            color:  #f1f1f1;\n",
       "        }    #T_81d5e400_9baa_11ea_b27a_0242ac130202row3_col6 {\n",
       "            background-color:  #440154;\n",
       "            color:  #f1f1f1;\n",
       "        }    #T_81d5e400_9baa_11ea_b27a_0242ac130202row4_col6 {\n",
       "            background-color:  #440154;\n",
       "            color:  #f1f1f1;\n",
       "        }    #T_81d5e400_9baa_11ea_b27a_0242ac130202row5_col6 {\n",
       "            background-color:  #440154;\n",
       "            color:  #f1f1f1;\n",
       "        }    #T_81d5e400_9baa_11ea_b27a_0242ac130202row6_col6 {\n",
       "            background-color:  #440154;\n",
       "            color:  #f1f1f1;\n",
       "        }    #T_81d5e400_9baa_11ea_b27a_0242ac130202row7_col6 {\n",
       "            background-color:  #440154;\n",
       "            color:  #f1f1f1;\n",
       "        }    #T_81d5e400_9baa_11ea_b27a_0242ac130202row8_col6 {\n",
       "            background-color:  #440154;\n",
       "            color:  #f1f1f1;\n",
       "        }</style><table id=\"T_81d5e400_9baa_11ea_b27a_0242ac130202\" ><thead>    <tr>        <th class=\"blank level0\" ></th>        <th class=\"col_heading level0 col0\" >PassengerId</th>        <th class=\"col_heading level0 col1\" >Survived</th>        <th class=\"col_heading level0 col2\" >Pclass</th>        <th class=\"col_heading level0 col3\" >Name</th>        <th class=\"col_heading level0 col4\" >Sex</th>        <th class=\"col_heading level0 col5\" >Age</th>        <th class=\"col_heading level0 col6\" >SibSp</th>        <th class=\"col_heading level0 col7\" >Parch</th>        <th class=\"col_heading level0 col8\" >Ticket</th>        <th class=\"col_heading level0 col9\" >Fare</th>        <th class=\"col_heading level0 col10\" >Cabin</th>        <th class=\"col_heading level0 col11\" >Embarked</th>    </tr></thead><tbody>\n",
       "                <tr>\n",
       "                        <th id=\"T_81d5e400_9baa_11ea_b27a_0242ac130202level0_row0\" class=\"row_heading level0 row0\" >159</th>\n",
       "                        <td id=\"T_81d5e400_9baa_11ea_b27a_0242ac130202row0_col0\" class=\"data row0 col0\" >160</td>\n",
       "                        <td id=\"T_81d5e400_9baa_11ea_b27a_0242ac130202row0_col1\" class=\"data row0 col1\" >0</td>\n",
       "                        <td id=\"T_81d5e400_9baa_11ea_b27a_0242ac130202row0_col2\" class=\"data row0 col2\" >3</td>\n",
       "                        <td id=\"T_81d5e400_9baa_11ea_b27a_0242ac130202row0_col3\" class=\"data row0 col3\" >Sage, Master. Thomas Henry</td>\n",
       "                        <td id=\"T_81d5e400_9baa_11ea_b27a_0242ac130202row0_col4\" class=\"data row0 col4\" >male</td>\n",
       "                        <td id=\"T_81d5e400_9baa_11ea_b27a_0242ac130202row0_col5\" class=\"data row0 col5\" >nan</td>\n",
       "                        <td id=\"T_81d5e400_9baa_11ea_b27a_0242ac130202row0_col6\" class=\"data row0 col6\" >8</td>\n",
       "                        <td id=\"T_81d5e400_9baa_11ea_b27a_0242ac130202row0_col7\" class=\"data row0 col7\" >2</td>\n",
       "                        <td id=\"T_81d5e400_9baa_11ea_b27a_0242ac130202row0_col8\" class=\"data row0 col8\" >CA. 2343</td>\n",
       "                        <td id=\"T_81d5e400_9baa_11ea_b27a_0242ac130202row0_col9\" class=\"data row0 col9\" >69.55</td>\n",
       "                        <td id=\"T_81d5e400_9baa_11ea_b27a_0242ac130202row0_col10\" class=\"data row0 col10\" >nan</td>\n",
       "                        <td id=\"T_81d5e400_9baa_11ea_b27a_0242ac130202row0_col11\" class=\"data row0 col11\" >S</td>\n",
       "            </tr>\n",
       "            <tr>\n",
       "                        <th id=\"T_81d5e400_9baa_11ea_b27a_0242ac130202level0_row1\" class=\"row_heading level0 row1\" >180</th>\n",
       "                        <td id=\"T_81d5e400_9baa_11ea_b27a_0242ac130202row1_col0\" class=\"data row1 col0\" >181</td>\n",
       "                        <td id=\"T_81d5e400_9baa_11ea_b27a_0242ac130202row1_col1\" class=\"data row1 col1\" >0</td>\n",
       "                        <td id=\"T_81d5e400_9baa_11ea_b27a_0242ac130202row1_col2\" class=\"data row1 col2\" >3</td>\n",
       "                        <td id=\"T_81d5e400_9baa_11ea_b27a_0242ac130202row1_col3\" class=\"data row1 col3\" >Sage, Miss. Constance Gladys</td>\n",
       "                        <td id=\"T_81d5e400_9baa_11ea_b27a_0242ac130202row1_col4\" class=\"data row1 col4\" >female</td>\n",
       "                        <td id=\"T_81d5e400_9baa_11ea_b27a_0242ac130202row1_col5\" class=\"data row1 col5\" >nan</td>\n",
       "                        <td id=\"T_81d5e400_9baa_11ea_b27a_0242ac130202row1_col6\" class=\"data row1 col6\" >8</td>\n",
       "                        <td id=\"T_81d5e400_9baa_11ea_b27a_0242ac130202row1_col7\" class=\"data row1 col7\" >2</td>\n",
       "                        <td id=\"T_81d5e400_9baa_11ea_b27a_0242ac130202row1_col8\" class=\"data row1 col8\" >CA. 2343</td>\n",
       "                        <td id=\"T_81d5e400_9baa_11ea_b27a_0242ac130202row1_col9\" class=\"data row1 col9\" >69.55</td>\n",
       "                        <td id=\"T_81d5e400_9baa_11ea_b27a_0242ac130202row1_col10\" class=\"data row1 col10\" >nan</td>\n",
       "                        <td id=\"T_81d5e400_9baa_11ea_b27a_0242ac130202row1_col11\" class=\"data row1 col11\" >S</td>\n",
       "            </tr>\n",
       "            <tr>\n",
       "                        <th id=\"T_81d5e400_9baa_11ea_b27a_0242ac130202level0_row2\" class=\"row_heading level0 row2\" >201</th>\n",
       "                        <td id=\"T_81d5e400_9baa_11ea_b27a_0242ac130202row2_col0\" class=\"data row2 col0\" >202</td>\n",
       "                        <td id=\"T_81d5e400_9baa_11ea_b27a_0242ac130202row2_col1\" class=\"data row2 col1\" >0</td>\n",
       "                        <td id=\"T_81d5e400_9baa_11ea_b27a_0242ac130202row2_col2\" class=\"data row2 col2\" >3</td>\n",
       "                        <td id=\"T_81d5e400_9baa_11ea_b27a_0242ac130202row2_col3\" class=\"data row2 col3\" >Sage, Mr. Frederick</td>\n",
       "                        <td id=\"T_81d5e400_9baa_11ea_b27a_0242ac130202row2_col4\" class=\"data row2 col4\" >male</td>\n",
       "                        <td id=\"T_81d5e400_9baa_11ea_b27a_0242ac130202row2_col5\" class=\"data row2 col5\" >nan</td>\n",
       "                        <td id=\"T_81d5e400_9baa_11ea_b27a_0242ac130202row2_col6\" class=\"data row2 col6\" >8</td>\n",
       "                        <td id=\"T_81d5e400_9baa_11ea_b27a_0242ac130202row2_col7\" class=\"data row2 col7\" >2</td>\n",
       "                        <td id=\"T_81d5e400_9baa_11ea_b27a_0242ac130202row2_col8\" class=\"data row2 col8\" >CA. 2343</td>\n",
       "                        <td id=\"T_81d5e400_9baa_11ea_b27a_0242ac130202row2_col9\" class=\"data row2 col9\" >69.55</td>\n",
       "                        <td id=\"T_81d5e400_9baa_11ea_b27a_0242ac130202row2_col10\" class=\"data row2 col10\" >nan</td>\n",
       "                        <td id=\"T_81d5e400_9baa_11ea_b27a_0242ac130202row2_col11\" class=\"data row2 col11\" >S</td>\n",
       "            </tr>\n",
       "            <tr>\n",
       "                        <th id=\"T_81d5e400_9baa_11ea_b27a_0242ac130202level0_row3\" class=\"row_heading level0 row3\" >324</th>\n",
       "                        <td id=\"T_81d5e400_9baa_11ea_b27a_0242ac130202row3_col0\" class=\"data row3 col0\" >325</td>\n",
       "                        <td id=\"T_81d5e400_9baa_11ea_b27a_0242ac130202row3_col1\" class=\"data row3 col1\" >0</td>\n",
       "                        <td id=\"T_81d5e400_9baa_11ea_b27a_0242ac130202row3_col2\" class=\"data row3 col2\" >3</td>\n",
       "                        <td id=\"T_81d5e400_9baa_11ea_b27a_0242ac130202row3_col3\" class=\"data row3 col3\" >Sage, Mr. George John Jr</td>\n",
       "                        <td id=\"T_81d5e400_9baa_11ea_b27a_0242ac130202row3_col4\" class=\"data row3 col4\" >male</td>\n",
       "                        <td id=\"T_81d5e400_9baa_11ea_b27a_0242ac130202row3_col5\" class=\"data row3 col5\" >nan</td>\n",
       "                        <td id=\"T_81d5e400_9baa_11ea_b27a_0242ac130202row3_col6\" class=\"data row3 col6\" >8</td>\n",
       "                        <td id=\"T_81d5e400_9baa_11ea_b27a_0242ac130202row3_col7\" class=\"data row3 col7\" >2</td>\n",
       "                        <td id=\"T_81d5e400_9baa_11ea_b27a_0242ac130202row3_col8\" class=\"data row3 col8\" >CA. 2343</td>\n",
       "                        <td id=\"T_81d5e400_9baa_11ea_b27a_0242ac130202row3_col9\" class=\"data row3 col9\" >69.55</td>\n",
       "                        <td id=\"T_81d5e400_9baa_11ea_b27a_0242ac130202row3_col10\" class=\"data row3 col10\" >nan</td>\n",
       "                        <td id=\"T_81d5e400_9baa_11ea_b27a_0242ac130202row3_col11\" class=\"data row3 col11\" >S</td>\n",
       "            </tr>\n",
       "            <tr>\n",
       "                        <th id=\"T_81d5e400_9baa_11ea_b27a_0242ac130202level0_row4\" class=\"row_heading level0 row4\" >792</th>\n",
       "                        <td id=\"T_81d5e400_9baa_11ea_b27a_0242ac130202row4_col0\" class=\"data row4 col0\" >793</td>\n",
       "                        <td id=\"T_81d5e400_9baa_11ea_b27a_0242ac130202row4_col1\" class=\"data row4 col1\" >0</td>\n",
       "                        <td id=\"T_81d5e400_9baa_11ea_b27a_0242ac130202row4_col2\" class=\"data row4 col2\" >3</td>\n",
       "                        <td id=\"T_81d5e400_9baa_11ea_b27a_0242ac130202row4_col3\" class=\"data row4 col3\" >Sage, Miss. Stella Anna</td>\n",
       "                        <td id=\"T_81d5e400_9baa_11ea_b27a_0242ac130202row4_col4\" class=\"data row4 col4\" >female</td>\n",
       "                        <td id=\"T_81d5e400_9baa_11ea_b27a_0242ac130202row4_col5\" class=\"data row4 col5\" >nan</td>\n",
       "                        <td id=\"T_81d5e400_9baa_11ea_b27a_0242ac130202row4_col6\" class=\"data row4 col6\" >8</td>\n",
       "                        <td id=\"T_81d5e400_9baa_11ea_b27a_0242ac130202row4_col7\" class=\"data row4 col7\" >2</td>\n",
       "                        <td id=\"T_81d5e400_9baa_11ea_b27a_0242ac130202row4_col8\" class=\"data row4 col8\" >CA. 2343</td>\n",
       "                        <td id=\"T_81d5e400_9baa_11ea_b27a_0242ac130202row4_col9\" class=\"data row4 col9\" >69.55</td>\n",
       "                        <td id=\"T_81d5e400_9baa_11ea_b27a_0242ac130202row4_col10\" class=\"data row4 col10\" >nan</td>\n",
       "                        <td id=\"T_81d5e400_9baa_11ea_b27a_0242ac130202row4_col11\" class=\"data row4 col11\" >S</td>\n",
       "            </tr>\n",
       "            <tr>\n",
       "                        <th id=\"T_81d5e400_9baa_11ea_b27a_0242ac130202level0_row5\" class=\"row_heading level0 row5\" >846</th>\n",
       "                        <td id=\"T_81d5e400_9baa_11ea_b27a_0242ac130202row5_col0\" class=\"data row5 col0\" >847</td>\n",
       "                        <td id=\"T_81d5e400_9baa_11ea_b27a_0242ac130202row5_col1\" class=\"data row5 col1\" >0</td>\n",
       "                        <td id=\"T_81d5e400_9baa_11ea_b27a_0242ac130202row5_col2\" class=\"data row5 col2\" >3</td>\n",
       "                        <td id=\"T_81d5e400_9baa_11ea_b27a_0242ac130202row5_col3\" class=\"data row5 col3\" >Sage, Mr. Douglas Bullen</td>\n",
       "                        <td id=\"T_81d5e400_9baa_11ea_b27a_0242ac130202row5_col4\" class=\"data row5 col4\" >male</td>\n",
       "                        <td id=\"T_81d5e400_9baa_11ea_b27a_0242ac130202row5_col5\" class=\"data row5 col5\" >nan</td>\n",
       "                        <td id=\"T_81d5e400_9baa_11ea_b27a_0242ac130202row5_col6\" class=\"data row5 col6\" >8</td>\n",
       "                        <td id=\"T_81d5e400_9baa_11ea_b27a_0242ac130202row5_col7\" class=\"data row5 col7\" >2</td>\n",
       "                        <td id=\"T_81d5e400_9baa_11ea_b27a_0242ac130202row5_col8\" class=\"data row5 col8\" >CA. 2343</td>\n",
       "                        <td id=\"T_81d5e400_9baa_11ea_b27a_0242ac130202row5_col9\" class=\"data row5 col9\" >69.55</td>\n",
       "                        <td id=\"T_81d5e400_9baa_11ea_b27a_0242ac130202row5_col10\" class=\"data row5 col10\" >nan</td>\n",
       "                        <td id=\"T_81d5e400_9baa_11ea_b27a_0242ac130202row5_col11\" class=\"data row5 col11\" >S</td>\n",
       "            </tr>\n",
       "            <tr>\n",
       "                        <th id=\"T_81d5e400_9baa_11ea_b27a_0242ac130202level0_row6\" class=\"row_heading level0 row6\" >863</th>\n",
       "                        <td id=\"T_81d5e400_9baa_11ea_b27a_0242ac130202row6_col0\" class=\"data row6 col0\" >864</td>\n",
       "                        <td id=\"T_81d5e400_9baa_11ea_b27a_0242ac130202row6_col1\" class=\"data row6 col1\" >0</td>\n",
       "                        <td id=\"T_81d5e400_9baa_11ea_b27a_0242ac130202row6_col2\" class=\"data row6 col2\" >3</td>\n",
       "                        <td id=\"T_81d5e400_9baa_11ea_b27a_0242ac130202row6_col3\" class=\"data row6 col3\" >Sage, Miss. Dorothy Edith \"Dolly\"</td>\n",
       "                        <td id=\"T_81d5e400_9baa_11ea_b27a_0242ac130202row6_col4\" class=\"data row6 col4\" >female</td>\n",
       "                        <td id=\"T_81d5e400_9baa_11ea_b27a_0242ac130202row6_col5\" class=\"data row6 col5\" >nan</td>\n",
       "                        <td id=\"T_81d5e400_9baa_11ea_b27a_0242ac130202row6_col6\" class=\"data row6 col6\" >8</td>\n",
       "                        <td id=\"T_81d5e400_9baa_11ea_b27a_0242ac130202row6_col7\" class=\"data row6 col7\" >2</td>\n",
       "                        <td id=\"T_81d5e400_9baa_11ea_b27a_0242ac130202row6_col8\" class=\"data row6 col8\" >CA. 2343</td>\n",
       "                        <td id=\"T_81d5e400_9baa_11ea_b27a_0242ac130202row6_col9\" class=\"data row6 col9\" >69.55</td>\n",
       "                        <td id=\"T_81d5e400_9baa_11ea_b27a_0242ac130202row6_col10\" class=\"data row6 col10\" >nan</td>\n",
       "                        <td id=\"T_81d5e400_9baa_11ea_b27a_0242ac130202row6_col11\" class=\"data row6 col11\" >S</td>\n",
       "            </tr>\n",
       "            <tr>\n",
       "                        <th id=\"T_81d5e400_9baa_11ea_b27a_0242ac130202level0_row7\" class=\"row_heading level0 row7\" >1079</th>\n",
       "                        <td id=\"T_81d5e400_9baa_11ea_b27a_0242ac130202row7_col0\" class=\"data row7 col0\" >1080</td>\n",
       "                        <td id=\"T_81d5e400_9baa_11ea_b27a_0242ac130202row7_col1\" class=\"data row7 col1\" >nan</td>\n",
       "                        <td id=\"T_81d5e400_9baa_11ea_b27a_0242ac130202row7_col2\" class=\"data row7 col2\" >3</td>\n",
       "                        <td id=\"T_81d5e400_9baa_11ea_b27a_0242ac130202row7_col3\" class=\"data row7 col3\" >Sage, Miss. Ada</td>\n",
       "                        <td id=\"T_81d5e400_9baa_11ea_b27a_0242ac130202row7_col4\" class=\"data row7 col4\" >female</td>\n",
       "                        <td id=\"T_81d5e400_9baa_11ea_b27a_0242ac130202row7_col5\" class=\"data row7 col5\" >nan</td>\n",
       "                        <td id=\"T_81d5e400_9baa_11ea_b27a_0242ac130202row7_col6\" class=\"data row7 col6\" >8</td>\n",
       "                        <td id=\"T_81d5e400_9baa_11ea_b27a_0242ac130202row7_col7\" class=\"data row7 col7\" >2</td>\n",
       "                        <td id=\"T_81d5e400_9baa_11ea_b27a_0242ac130202row7_col8\" class=\"data row7 col8\" >CA. 2343</td>\n",
       "                        <td id=\"T_81d5e400_9baa_11ea_b27a_0242ac130202row7_col9\" class=\"data row7 col9\" >69.55</td>\n",
       "                        <td id=\"T_81d5e400_9baa_11ea_b27a_0242ac130202row7_col10\" class=\"data row7 col10\" >nan</td>\n",
       "                        <td id=\"T_81d5e400_9baa_11ea_b27a_0242ac130202row7_col11\" class=\"data row7 col11\" >S</td>\n",
       "            </tr>\n",
       "            <tr>\n",
       "                        <th id=\"T_81d5e400_9baa_11ea_b27a_0242ac130202level0_row8\" class=\"row_heading level0 row8\" >1251</th>\n",
       "                        <td id=\"T_81d5e400_9baa_11ea_b27a_0242ac130202row8_col0\" class=\"data row8 col0\" >1252</td>\n",
       "                        <td id=\"T_81d5e400_9baa_11ea_b27a_0242ac130202row8_col1\" class=\"data row8 col1\" >nan</td>\n",
       "                        <td id=\"T_81d5e400_9baa_11ea_b27a_0242ac130202row8_col2\" class=\"data row8 col2\" >3</td>\n",
       "                        <td id=\"T_81d5e400_9baa_11ea_b27a_0242ac130202row8_col3\" class=\"data row8 col3\" >Sage, Master. William Henry</td>\n",
       "                        <td id=\"T_81d5e400_9baa_11ea_b27a_0242ac130202row8_col4\" class=\"data row8 col4\" >male</td>\n",
       "                        <td id=\"T_81d5e400_9baa_11ea_b27a_0242ac130202row8_col5\" class=\"data row8 col5\" >14.5</td>\n",
       "                        <td id=\"T_81d5e400_9baa_11ea_b27a_0242ac130202row8_col6\" class=\"data row8 col6\" >8</td>\n",
       "                        <td id=\"T_81d5e400_9baa_11ea_b27a_0242ac130202row8_col7\" class=\"data row8 col7\" >2</td>\n",
       "                        <td id=\"T_81d5e400_9baa_11ea_b27a_0242ac130202row8_col8\" class=\"data row8 col8\" >CA. 2343</td>\n",
       "                        <td id=\"T_81d5e400_9baa_11ea_b27a_0242ac130202row8_col9\" class=\"data row8 col9\" >69.55</td>\n",
       "                        <td id=\"T_81d5e400_9baa_11ea_b27a_0242ac130202row8_col10\" class=\"data row8 col10\" >nan</td>\n",
       "                        <td id=\"T_81d5e400_9baa_11ea_b27a_0242ac130202row8_col11\" class=\"data row8 col11\" >S</td>\n",
       "            </tr>\n",
       "    </tbody></table>"
      ],
      "text/plain": [
       "<pandas.io.formats.style.Styler at 0x7f63be1c6320>"
      ]
     },
     "metadata": {},
     "output_type": "display_data"
    }
   ],
   "source": [
    "display(df_all[df_all['SibSp']> 6].style.background_gradient(cmap='viridis', subset=['SibSp']))"
   ]
  },
  {
   "cell_type": "code",
   "execution_count": 10,
   "metadata": {},
   "outputs": [
    {
     "data": {
      "text/plain": [
       "<matplotlib.axes._subplots.AxesSubplot at 0x7f63be169320>"
      ]
     },
     "execution_count": 10,
     "metadata": {},
     "output_type": "execute_result"
    },
    {
     "data": {
      "image/png": "[encoded data removed]",
      "text/plain": [
       "<Figure size 432x288 with 1 Axes>"
      ]
     },
     "metadata": {},
     "output_type": "display_data"
    }
   ],
   "source": [
    "df_all.boxplot(column=['Fare'])"
   ]
  },
  {
   "cell_type": "markdown",
   "execution_count": null,
   "metadata": {},
   "source": [
    "The \\$512.33 fare actually is from the same ticket, so probably isn't an outlier."
   ]
  },
  {
   "cell_type": "code",
   "execution_count": 11,
   "metadata": {},
   "outputs": [
    {
     "data": {
      "text/html": [
       "<style  type=\"text/css\" >\n",
       "    #T_81f5f038_9baa_11ea_b27a_0242ac130202row0_col9 {\n",
       "            background-color:  #440154;\n",
       "            color:  #f1f1f1;\n",
       "        }    #T_81f5f038_9baa_11ea_b27a_0242ac130202row1_col9 {\n",
       "            background-color:  #440154;\n",
       "            color:  #f1f1f1;\n",
       "        }    #T_81f5f038_9baa_11ea_b27a_0242ac130202row2_col9 {\n",
       "            background-color:  #440154;\n",
       "            color:  #f1f1f1;\n",
       "        }    #T_81f5f038_9baa_11ea_b27a_0242ac130202row3_col9 {\n",
       "            background-color:  #440154;\n",
       "            color:  #f1f1f1;\n",
       "        }</style><table id=\"T_81f5f038_9baa_11ea_b27a_0242ac130202\" ><thead>    <tr>        <th class=\"blank level0\" ></th>        <th class=\"col_heading level0 col0\" >PassengerId</th>        <th class=\"col_heading level0 col1\" >Survived</th>        <th class=\"col_heading level0 col2\" >Pclass</th>        <th class=\"col_heading level0 col3\" >Name</th>        <th class=\"col_heading level0 col4\" >Sex</th>        <th class=\"col_heading level0 col5\" >Age</th>        <th class=\"col_heading level0 col6\" >SibSp</th>        <th class=\"col_heading level0 col7\" >Parch</th>        <th class=\"col_heading level0 col8\" >Ticket</th>        <th class=\"col_heading level0 col9\" >Fare</th>        <th class=\"col_heading level0 col10\" >Cabin</th>        <th class=\"col_heading level0 col11\" >Embarked</th>    </tr></thead><tbody>\n",
       "                <tr>\n",
       "                        <th id=\"T_81f5f038_9baa_11ea_b27a_0242ac130202level0_row0\" class=\"row_heading level0 row0\" >258</th>\n",
       "                        <td id=\"T_81f5f038_9baa_11ea_b27a_0242ac130202row0_col0\" class=\"data row0 col0\" >259</td>\n",
       "                        <td id=\"T_81f5f038_9baa_11ea_b27a_0242ac130202row0_col1\" class=\"data row0 col1\" >1</td>\n",
       "                        <td id=\"T_81f5f038_9baa_11ea_b27a_0242ac130202row0_col2\" class=\"data row0 col2\" >1</td>\n",
       "                        <td id=\"T_81f5f038_9baa_11ea_b27a_0242ac130202row0_col3\" class=\"data row0 col3\" >Ward, Miss. Anna</td>\n",
       "                        <td id=\"T_81f5f038_9baa_11ea_b27a_0242ac130202row0_col4\" class=\"data row0 col4\" >female</td>\n",
       "                        <td id=\"T_81f5f038_9baa_11ea_b27a_0242ac130202row0_col5\" class=\"data row0 col5\" >35</td>\n",
       "                        <td id=\"T_81f5f038_9baa_11ea_b27a_0242ac130202row0_col6\" class=\"data row0 col6\" >0</td>\n",
       "                        <td id=\"T_81f5f038_9baa_11ea_b27a_0242ac130202row0_col7\" class=\"data row0 col7\" >0</td>\n",
       "                        <td id=\"T_81f5f038_9baa_11ea_b27a_0242ac130202row0_col8\" class=\"data row0 col8\" >PC 17755</td>\n",
       "                        <td id=\"T_81f5f038_9baa_11ea_b27a_0242ac130202row0_col9\" class=\"data row0 col9\" >5.1e+02</td>\n",
       "                        <td id=\"T_81f5f038_9baa_11ea_b27a_0242ac130202row0_col10\" class=\"data row0 col10\" >nan</td>\n",
       "                        <td id=\"T_81f5f038_9baa_11ea_b27a_0242ac130202row0_col11\" class=\"data row0 col11\" >C</td>\n",
       "            </tr>\n",
       "            <tr>\n",
       "                        <th id=\"T_81f5f038_9baa_11ea_b27a_0242ac130202level0_row1\" class=\"row_heading level0 row1\" >679</th>\n",
       "                        <td id=\"T_81f5f038_9baa_11ea_b27a_0242ac130202row1_col0\" class=\"data row1 col0\" >680</td>\n",
       "                        <td id=\"T_81f5f038_9baa_11ea_b27a_0242ac130202row1_col1\" class=\"data row1 col1\" >1</td>\n",
       "                        <td id=\"T_81f5f038_9baa_11ea_b27a_0242ac130202row1_col2\" class=\"data row1 col2\" >1</td>\n",
       "                        <td id=\"T_81f5f038_9baa_11ea_b27a_0242ac130202row1_col3\" class=\"data row1 col3\" >Cardeza, Mr. Thomas Drake Martinez</td>\n",
       "                        <td id=\"T_81f5f038_9baa_11ea_b27a_0242ac130202row1_col4\" class=\"data row1 col4\" >male</td>\n",
       "                        <td id=\"T_81f5f038_9baa_11ea_b27a_0242ac130202row1_col5\" class=\"data row1 col5\" >36</td>\n",
       "                        <td id=\"T_81f5f038_9baa_11ea_b27a_0242ac130202row1_col6\" class=\"data row1 col6\" >0</td>\n",
       "                        <td id=\"T_81f5f038_9baa_11ea_b27a_0242ac130202row1_col7\" class=\"data row1 col7\" >1</td>\n",
       "                        <td id=\"T_81f5f038_9baa_11ea_b27a_0242ac130202row1_col8\" class=\"data row1 col8\" >PC 17755</td>\n",
       "                        <td id=\"T_81f5f038_9baa_11ea_b27a_0242ac130202row1_col9\" class=\"data row1 col9\" >5.1e+02</td>\n",
       "                        <td id=\"T_81f5f038_9baa_11ea_b27a_0242ac130202row1_col10\" class=\"data row1 col10\" >B51 B53 B55</td>\n",
       "                        <td id=\"T_81f5f038_9baa_11ea_b27a_0242ac130202row1_col11\" class=\"data row1 col11\" >C</td>\n",
       "            </tr>\n",
       "            <tr>\n",
       "                        <th id=\"T_81f5f038_9baa_11ea_b27a_0242ac130202level0_row2\" class=\"row_heading level0 row2\" >737</th>\n",
       "                        <td id=\"T_81f5f038_9baa_11ea_b27a_0242ac130202row2_col0\" class=\"data row2 col0\" >738</td>\n",
       "                        <td id=\"T_81f5f038_9baa_11ea_b27a_0242ac130202row2_col1\" class=\"data row2 col1\" >1</td>\n",
       "                        <td id=\"T_81f5f038_9baa_11ea_b27a_0242ac130202row2_col2\" class=\"data row2 col2\" >1</td>\n",
       "                        <td id=\"T_81f5f038_9baa_11ea_b27a_0242ac130202row2_col3\" class=\"data row2 col3\" >Lesurer, Mr. Gustave J</td>\n",
       "                        <td id=\"T_81f5f038_9baa_11ea_b27a_0242ac130202row2_col4\" class=\"data row2 col4\" >male</td>\n",
       "                        <td id=\"T_81f5f038_9baa_11ea_b27a_0242ac130202row2_col5\" class=\"data row2 col5\" >35</td>\n",
       "                        <td id=\"T_81f5f038_9baa_11ea_b27a_0242ac130202row2_col6\" class=\"data row2 col6\" >0</td>\n",
       "                        <td id=\"T_81f5f038_9baa_11ea_b27a_0242ac130202row2_col7\" class=\"data row2 col7\" >0</td>\n",
       "                        <td id=\"T_81f5f038_9baa_11ea_b27a_0242ac130202row2_col8\" class=\"data row2 col8\" >PC 17755</td>\n",
       "                        <td id=\"T_81f5f038_9baa_11ea_b27a_0242ac130202row2_col9\" class=\"data row2 col9\" >5.1e+02</td>\n",
       "                        <td id=\"T_81f5f038_9baa_11ea_b27a_0242ac130202row2_col10\" class=\"data row2 col10\" >B101</td>\n",
       "                        <td id=\"T_81f5f038_9baa_11ea_b27a_0242ac130202row2_col11\" class=\"data row2 col11\" >C</td>\n",
       "            </tr>\n",
       "            <tr>\n",
       "                        <th id=\"T_81f5f038_9baa_11ea_b27a_0242ac130202level0_row3\" class=\"row_heading level0 row3\" >1234</th>\n",
       "                        <td id=\"T_81f5f038_9baa_11ea_b27a_0242ac130202row3_col0\" class=\"data row3 col0\" >1235</td>\n",
       "                        <td id=\"T_81f5f038_9baa_11ea_b27a_0242ac130202row3_col1\" class=\"data row3 col1\" >nan</td>\n",
       "                        <td id=\"T_81f5f038_9baa_11ea_b27a_0242ac130202row3_col2\" class=\"data row3 col2\" >1</td>\n",
       "                        <td id=\"T_81f5f038_9baa_11ea_b27a_0242ac130202row3_col3\" class=\"data row3 col3\" >Cardeza, Mrs. James Warburton Martinez (Charlotte Wardle Drake)</td>\n",
       "                        <td id=\"T_81f5f038_9baa_11ea_b27a_0242ac130202row3_col4\" class=\"data row3 col4\" >female</td>\n",
       "                        <td id=\"T_81f5f038_9baa_11ea_b27a_0242ac130202row3_col5\" class=\"data row3 col5\" >58</td>\n",
       "                        <td id=\"T_81f5f038_9baa_11ea_b27a_0242ac130202row3_col6\" class=\"data row3 col6\" >0</td>\n",
       "                        <td id=\"T_81f5f038_9baa_11ea_b27a_0242ac130202row3_col7\" class=\"data row3 col7\" >1</td>\n",
       "                        <td id=\"T_81f5f038_9baa_11ea_b27a_0242ac130202row3_col8\" class=\"data row3 col8\" >PC 17755</td>\n",
       "                        <td id=\"T_81f5f038_9baa_11ea_b27a_0242ac130202row3_col9\" class=\"data row3 col9\" >5.1e+02</td>\n",
       "                        <td id=\"T_81f5f038_9baa_11ea_b27a_0242ac130202row3_col10\" class=\"data row3 col10\" >B51 B53 B55</td>\n",
       "                        <td id=\"T_81f5f038_9baa_11ea_b27a_0242ac130202row3_col11\" class=\"data row3 col11\" >C</td>\n",
       "            </tr>\n",
       "    </tbody></table>"
      ],
      "text/plain": [
       "<pandas.io.formats.style.Styler at 0x7f63be1422b0>"
      ]
     },
     "metadata": {},
     "output_type": "display_data"
    }
   ],
   "source": [
    "with pd.option_context('display.precision', 2):\n",
    "    display(df_all[df_all['Fare']> 300].style.background_gradient(cmap='viridis', subset=['Fare']))"
   ]
  },
  {
   "cell_type": "code",
   "execution_count": 12,
   "metadata": {},
   "outputs": [
    {
     "data": {
      "text/plain": [
       "<matplotlib.axes._subplots.AxesSubplot at 0x7f63be14a320>"
      ]
     },
     "execution_count": 12,
     "metadata": {},
     "output_type": "execute_result"
    },
    {
     "data": {
      "image/png": "[encoded data removed]",
      "text/plain": [
       "<Figure size 432x288 with 1 Axes>"
      ]
     },
     "metadata": {},
     "output_type": "display_data"
    }
   ],
   "source": [
    "df_all.boxplot(column=['Age'])"
   ]
  },
  {
   "cell_type": "code",
   "execution_count": 13,
   "metadata": {},
   "outputs": [
    {
     "data": {
      "text/html": [
       "<style  type=\"text/css\" >\n",
       "    #T_82160ef4_9baa_11ea_b27a_0242ac130202row0_col5 {\n",
       "            background-color:  #481467;\n",
       "            color:  #f1f1f1;\n",
       "        }    #T_82160ef4_9baa_11ea_b27a_0242ac130202row1_col5 {\n",
       "            background-color:  #440154;\n",
       "            color:  #f1f1f1;\n",
       "        }    #T_82160ef4_9baa_11ea_b27a_0242ac130202row2_col5 {\n",
       "            background-color:  #481467;\n",
       "            color:  #f1f1f1;\n",
       "        }    #T_82160ef4_9baa_11ea_b27a_0242ac130202row3_col5 {\n",
       "            background-color:  #fde725;\n",
       "            color:  #000000;\n",
       "        }    #T_82160ef4_9baa_11ea_b27a_0242ac130202row4_col5 {\n",
       "            background-color:  #2d718e;\n",
       "            color:  #f1f1f1;\n",
       "        }    #T_82160ef4_9baa_11ea_b27a_0242ac130202row5_col5 {\n",
       "            background-color:  #20a386;\n",
       "            color:  #000000;\n",
       "        }</style><table id=\"T_82160ef4_9baa_11ea_b27a_0242ac130202\" ><thead>    <tr>        <th class=\"blank level0\" ></th>        <th class=\"col_heading level0 col0\" >PassengerId</th>        <th class=\"col_heading level0 col1\" >Survived</th>        <th class=\"col_heading level0 col2\" >Pclass</th>        <th class=\"col_heading level0 col3\" >Name</th>        <th class=\"col_heading level0 col4\" >Sex</th>        <th class=\"col_heading level0 col5\" >Age</th>        <th class=\"col_heading level0 col6\" >SibSp</th>        <th class=\"col_heading level0 col7\" >Parch</th>        <th class=\"col_heading level0 col8\" >Ticket</th>        <th class=\"col_heading level0 col9\" >Fare</th>        <th class=\"col_heading level0 col10\" >Cabin</th>        <th class=\"col_heading level0 col11\" >Embarked</th>    </tr></thead><tbody>\n",
       "                <tr>\n",
       "                        <th id=\"T_82160ef4_9baa_11ea_b27a_0242ac130202level0_row0\" class=\"row_heading level0 row0\" >96</th>\n",
       "                        <td id=\"T_82160ef4_9baa_11ea_b27a_0242ac130202row0_col0\" class=\"data row0 col0\" >97</td>\n",
       "                        <td id=\"T_82160ef4_9baa_11ea_b27a_0242ac130202row0_col1\" class=\"data row0 col1\" >0</td>\n",
       "                        <td id=\"T_82160ef4_9baa_11ea_b27a_0242ac130202row0_col2\" class=\"data row0 col2\" >1</td>\n",
       "                        <td id=\"T_82160ef4_9baa_11ea_b27a_0242ac130202row0_col3\" class=\"data row0 col3\" >Goldschmidt, Mr. George B</td>\n",
       "                        <td id=\"T_82160ef4_9baa_11ea_b27a_0242ac130202row0_col4\" class=\"data row0 col4\" >male</td>\n",
       "                        <td id=\"T_82160ef4_9baa_11ea_b27a_0242ac130202row0_col5\" class=\"data row0 col5\" >71</td>\n",
       "                        <td id=\"T_82160ef4_9baa_11ea_b27a_0242ac130202row0_col6\" class=\"data row0 col6\" >0</td>\n",
       "                        <td id=\"T_82160ef4_9baa_11ea_b27a_0242ac130202row0_col7\" class=\"data row0 col7\" >0</td>\n",
       "                        <td id=\"T_82160ef4_9baa_11ea_b27a_0242ac130202row0_col8\" class=\"data row0 col8\" >PC 17754</td>\n",
       "                        <td id=\"T_82160ef4_9baa_11ea_b27a_0242ac130202row0_col9\" class=\"data row0 col9\" >34.6542</td>\n",
       "                        <td id=\"T_82160ef4_9baa_11ea_b27a_0242ac130202row0_col10\" class=\"data row0 col10\" >A5</td>\n",
       "                        <td id=\"T_82160ef4_9baa_11ea_b27a_0242ac130202row0_col11\" class=\"data row0 col11\" >C</td>\n",
       "            </tr>\n",
       "            <tr>\n",
       "                        <th id=\"T_82160ef4_9baa_11ea_b27a_0242ac130202level0_row1\" class=\"row_heading level0 row1\" >116</th>\n",
       "                        <td id=\"T_82160ef4_9baa_11ea_b27a_0242ac130202row1_col0\" class=\"data row1 col0\" >117</td>\n",
       "                        <td id=\"T_82160ef4_9baa_11ea_b27a_0242ac130202row1_col1\" class=\"data row1 col1\" >0</td>\n",
       "                        <td id=\"T_82160ef4_9baa_11ea_b27a_0242ac130202row1_col2\" class=\"data row1 col2\" >3</td>\n",
       "                        <td id=\"T_82160ef4_9baa_11ea_b27a_0242ac130202row1_col3\" class=\"data row1 col3\" >Connors, Mr. Patrick</td>\n",
       "                        <td id=\"T_82160ef4_9baa_11ea_b27a_0242ac130202row1_col4\" class=\"data row1 col4\" >male</td>\n",
       "                        <td id=\"T_82160ef4_9baa_11ea_b27a_0242ac130202row1_col5\" class=\"data row1 col5\" >70.5</td>\n",
       "                        <td id=\"T_82160ef4_9baa_11ea_b27a_0242ac130202row1_col6\" class=\"data row1 col6\" >0</td>\n",
       "                        <td id=\"T_82160ef4_9baa_11ea_b27a_0242ac130202row1_col7\" class=\"data row1 col7\" >0</td>\n",
       "                        <td id=\"T_82160ef4_9baa_11ea_b27a_0242ac130202row1_col8\" class=\"data row1 col8\" >370369</td>\n",
       "                        <td id=\"T_82160ef4_9baa_11ea_b27a_0242ac130202row1_col9\" class=\"data row1 col9\" >7.75</td>\n",
       "                        <td id=\"T_82160ef4_9baa_11ea_b27a_0242ac130202row1_col10\" class=\"data row1 col10\" >nan</td>\n",
       "                        <td id=\"T_82160ef4_9baa_11ea_b27a_0242ac130202row1_col11\" class=\"data row1 col11\" >Q</td>\n",
       "            </tr>\n",
       "            <tr>\n",
       "                        <th id=\"T_82160ef4_9baa_11ea_b27a_0242ac130202level0_row2\" class=\"row_heading level0 row2\" >493</th>\n",
       "                        <td id=\"T_82160ef4_9baa_11ea_b27a_0242ac130202row2_col0\" class=\"data row2 col0\" >494</td>\n",
       "                        <td id=\"T_82160ef4_9baa_11ea_b27a_0242ac130202row2_col1\" class=\"data row2 col1\" >0</td>\n",
       "                        <td id=\"T_82160ef4_9baa_11ea_b27a_0242ac130202row2_col2\" class=\"data row2 col2\" >1</td>\n",
       "                        <td id=\"T_82160ef4_9baa_11ea_b27a_0242ac130202row2_col3\" class=\"data row2 col3\" >Artagaveytia, Mr. Ramon</td>\n",
       "                        <td id=\"T_82160ef4_9baa_11ea_b27a_0242ac130202row2_col4\" class=\"data row2 col4\" >male</td>\n",
       "                        <td id=\"T_82160ef4_9baa_11ea_b27a_0242ac130202row2_col5\" class=\"data row2 col5\" >71</td>\n",
       "                        <td id=\"T_82160ef4_9baa_11ea_b27a_0242ac130202row2_col6\" class=\"data row2 col6\" >0</td>\n",
       "                        <td id=\"T_82160ef4_9baa_11ea_b27a_0242ac130202row2_col7\" class=\"data row2 col7\" >0</td>\n",
       "                        <td id=\"T_82160ef4_9baa_11ea_b27a_0242ac130202row2_col8\" class=\"data row2 col8\" >PC 17609</td>\n",
       "                        <td id=\"T_82160ef4_9baa_11ea_b27a_0242ac130202row2_col9\" class=\"data row2 col9\" >49.5042</td>\n",
       "                        <td id=\"T_82160ef4_9baa_11ea_b27a_0242ac130202row2_col10\" class=\"data row2 col10\" >nan</td>\n",
       "                        <td id=\"T_82160ef4_9baa_11ea_b27a_0242ac130202row2_col11\" class=\"data row2 col11\" >C</td>\n",
       "            </tr>\n",
       "            <tr>\n",
       "                        <th id=\"T_82160ef4_9baa_11ea_b27a_0242ac130202level0_row3\" class=\"row_heading level0 row3\" >630</th>\n",
       "                        <td id=\"T_82160ef4_9baa_11ea_b27a_0242ac130202row3_col0\" class=\"data row3 col0\" >631</td>\n",
       "                        <td id=\"T_82160ef4_9baa_11ea_b27a_0242ac130202row3_col1\" class=\"data row3 col1\" >1</td>\n",
       "                        <td id=\"T_82160ef4_9baa_11ea_b27a_0242ac130202row3_col2\" class=\"data row3 col2\" >1</td>\n",
       "                        <td id=\"T_82160ef4_9baa_11ea_b27a_0242ac130202row3_col3\" class=\"data row3 col3\" >Barkworth, Mr. Algernon Henry Wilson</td>\n",
       "                        <td id=\"T_82160ef4_9baa_11ea_b27a_0242ac130202row3_col4\" class=\"data row3 col4\" >male</td>\n",
       "                        <td id=\"T_82160ef4_9baa_11ea_b27a_0242ac130202row3_col5\" class=\"data row3 col5\" >80</td>\n",
       "                        <td id=\"T_82160ef4_9baa_11ea_b27a_0242ac130202row3_col6\" class=\"data row3 col6\" >0</td>\n",
       "                        <td id=\"T_82160ef4_9baa_11ea_b27a_0242ac130202row3_col7\" class=\"data row3 col7\" >0</td>\n",
       "                        <td id=\"T_82160ef4_9baa_11ea_b27a_0242ac130202row3_col8\" class=\"data row3 col8\" >27042</td>\n",
       "                        <td id=\"T_82160ef4_9baa_11ea_b27a_0242ac130202row3_col9\" class=\"data row3 col9\" >30</td>\n",
       "                        <td id=\"T_82160ef4_9baa_11ea_b27a_0242ac130202row3_col10\" class=\"data row3 col10\" >A23</td>\n",
       "                        <td id=\"T_82160ef4_9baa_11ea_b27a_0242ac130202row3_col11\" class=\"data row3 col11\" >S</td>\n",
       "            </tr>\n",
       "            <tr>\n",
       "                        <th id=\"T_82160ef4_9baa_11ea_b27a_0242ac130202level0_row4\" class=\"row_heading level0 row4\" >851</th>\n",
       "                        <td id=\"T_82160ef4_9baa_11ea_b27a_0242ac130202row4_col0\" class=\"data row4 col0\" >852</td>\n",
       "                        <td id=\"T_82160ef4_9baa_11ea_b27a_0242ac130202row4_col1\" class=\"data row4 col1\" >0</td>\n",
       "                        <td id=\"T_82160ef4_9baa_11ea_b27a_0242ac130202row4_col2\" class=\"data row4 col2\" >3</td>\n",
       "                        <td id=\"T_82160ef4_9baa_11ea_b27a_0242ac130202row4_col3\" class=\"data row4 col3\" >Svensson, Mr. Johan</td>\n",
       "                        <td id=\"T_82160ef4_9baa_11ea_b27a_0242ac130202row4_col4\" class=\"data row4 col4\" >male</td>\n",
       "                        <td id=\"T_82160ef4_9baa_11ea_b27a_0242ac130202row4_col5\" class=\"data row4 col5\" >74</td>\n",
       "                        <td id=\"T_82160ef4_9baa_11ea_b27a_0242ac130202row4_col6\" class=\"data row4 col6\" >0</td>\n",
       "                        <td id=\"T_82160ef4_9baa_11ea_b27a_0242ac130202row4_col7\" class=\"data row4 col7\" >0</td>\n",
       "                        <td id=\"T_82160ef4_9baa_11ea_b27a_0242ac130202row4_col8\" class=\"data row4 col8\" >347060</td>\n",
       "                        <td id=\"T_82160ef4_9baa_11ea_b27a_0242ac130202row4_col9\" class=\"data row4 col9\" >7.775</td>\n",
       "                        <td id=\"T_82160ef4_9baa_11ea_b27a_0242ac130202row4_col10\" class=\"data row4 col10\" >nan</td>\n",
       "                        <td id=\"T_82160ef4_9baa_11ea_b27a_0242ac130202row4_col11\" class=\"data row4 col11\" >S</td>\n",
       "            </tr>\n",
       "            <tr>\n",
       "                        <th id=\"T_82160ef4_9baa_11ea_b27a_0242ac130202level0_row5\" class=\"row_heading level0 row5\" >987</th>\n",
       "                        <td id=\"T_82160ef4_9baa_11ea_b27a_0242ac130202row5_col0\" class=\"data row5 col0\" >988</td>\n",
       "                        <td id=\"T_82160ef4_9baa_11ea_b27a_0242ac130202row5_col1\" class=\"data row5 col1\" >nan</td>\n",
       "                        <td id=\"T_82160ef4_9baa_11ea_b27a_0242ac130202row5_col2\" class=\"data row5 col2\" >1</td>\n",
       "                        <td id=\"T_82160ef4_9baa_11ea_b27a_0242ac130202row5_col3\" class=\"data row5 col3\" >Cavendish, Mrs. Tyrell William (Julia Florence Siegel)</td>\n",
       "                        <td id=\"T_82160ef4_9baa_11ea_b27a_0242ac130202row5_col4\" class=\"data row5 col4\" >female</td>\n",
       "                        <td id=\"T_82160ef4_9baa_11ea_b27a_0242ac130202row5_col5\" class=\"data row5 col5\" >76</td>\n",
       "                        <td id=\"T_82160ef4_9baa_11ea_b27a_0242ac130202row5_col6\" class=\"data row5 col6\" >1</td>\n",
       "                        <td id=\"T_82160ef4_9baa_11ea_b27a_0242ac130202row5_col7\" class=\"data row5 col7\" >0</td>\n",
       "                        <td id=\"T_82160ef4_9baa_11ea_b27a_0242ac130202row5_col8\" class=\"data row5 col8\" >19877</td>\n",
       "                        <td id=\"T_82160ef4_9baa_11ea_b27a_0242ac130202row5_col9\" class=\"data row5 col9\" >78.85</td>\n",
       "                        <td id=\"T_82160ef4_9baa_11ea_b27a_0242ac130202row5_col10\" class=\"data row5 col10\" >C46</td>\n",
       "                        <td id=\"T_82160ef4_9baa_11ea_b27a_0242ac130202row5_col11\" class=\"data row5 col11\" >S</td>\n",
       "            </tr>\n",
       "    </tbody></table>"
      ],
      "text/plain": [
       "<pandas.io.formats.style.Styler at 0x7f63be091ba8>"
      ]
     },
     "execution_count": 13,
     "metadata": {},
     "output_type": "execute_result"
    }
   ],
   "source": [
    "df_all[df_all['Age']> 70].style.background_gradient(cmap='viridis', subset=['Age'])"
   ]
  },
  {
   "cell_type": "markdown",
   "execution_count": null,
   "metadata": {},
   "source": [
    "### Now, we'll look at some Survived or not data\n",
    "\n",
    "There's at least 150 more deaths than survived in the training data."
   ]
  },
  {
   "cell_type": "code",
   "execution_count": 14,
   "metadata": {},
   "outputs": [
    {
     "data": {
      "text/plain": [
       "<matplotlib.axes._subplots.AxesSubplot at 0x7f63be091b70>"
      ]
     },
     "execution_count": 14,
     "metadata": {},
     "output_type": "execute_result"
    },
    {
     "data": {
      "image/png": "[encoded data removed]",
      "text/plain": [
       "<Figure size 432x288 with 1 Axes>"
      ]
     },
     "metadata": {},
     "output_type": "display_data"
    }
   ],
   "source": [
    "sns.countplot(x='Survived', data=train)"
   ]
  },
  {
   "cell_type": "markdown",
   "execution_count": null,
   "metadata": {},
   "source": [
    "As expected, more women survived. \"Women and children first!\""
   ]
  },
  {
   "cell_type": "code",
   "execution_count": 15,
   "metadata": {},
   "outputs": [
    {
     "data": {
      "text/plain": [
       "<matplotlib.axes._subplots.AxesSubplot at 0x7f63be01e278>"
      ]
     },
     "execution_count": 15,
     "metadata": {},
     "output_type": "execute_result"
    },
    {
     "data": {
      "image/png": "[encoded data removed]",
      "text/plain": [
       "<Figure size 432x288 with 1 Axes>"
      ]
     },
     "metadata": {},
     "output_type": "display_data"
    }
   ],
   "source": [
    "sns.countplot(x='Survived', hue='Sex', data=train)"
   ]
  },
  {
   "cell_type": "markdown",
   "execution_count": null,
   "metadata": {},
   "source": [
    "As expected², more deaths on the third class"
   ]
  },
  {
   "cell_type": "code",
   "execution_count": 16,
   "metadata": {},
   "outputs": [
    {
     "data": {
      "text/plain": [
       "<matplotlib.axes._subplots.AxesSubplot at 0x7f63be006e10>"
      ]
     },
     "execution_count": 16,
     "metadata": {},
     "output_type": "execute_result"
    },
    {
     "data": {
      "image/png": "[encoded data removed]",
      "text/plain": [
       "<Figure size 432x288 with 1 Axes>"
      ]
     },
     "metadata": {},
     "output_type": "display_data"
    }
   ],
   "source": [
    "sns.countplot(x='Survived', hue='Pclass', data=train)"
   ]
  },
  {
   "cell_type": "markdown",
   "execution_count": null,
   "metadata": {},
   "source": [
    "# 3. Feature engineering\n",
    "\n",
    "First, we'll impute some missing data"
   ]
  },
  {
   "cell_type": "code",
   "execution_count": 17,
   "metadata": {},
   "outputs": [],
   "source": [
    "df_all['Embarked'] = df_all['Embarked'].fillna(df_all['Embarked'].mode()[0]) # The mode is the value that appears most\n",
    "df_all['Cabin'] = df_all['Cabin'].fillna('U') # U for Unknown, later we'll plot this\n",
    "\n",
    "df_all['Ticket'] = df_all['Ticket'].fillna('Unknown') #Ticket is also unknown\n",
    "\n",
    "# # Filling the missing value in Fare with the median Fare of 3rd class alone passenger\n",
    "df_all['Fare'] = df_all['Fare'].fillna(df_all.groupby(['Pclass', 'Parch', 'SibSp']).Fare.median()[3][0][0]) \n",
    "\n",
    "#Age is filled with the median of ages by Sex and by Pclass\n",
    "df_all['Age'] = df_all.groupby(['Sex', 'Pclass'])['Age'].apply(lambda x: x.fillna(x.median()))"
   ]
  },
  {
   "cell_type": "code",
   "execution_count": 18,
   "metadata": {},
   "outputs": [
    {
     "data": {
      "text/plain": [
       "PassengerId      0\n",
       "Survived       418\n",
       "Pclass           0\n",
       "Name             0\n",
       "Sex              0\n",
       "Age              0\n",
       "SibSp            0\n",
       "Parch            0\n",
       "Ticket           0\n",
       "Fare             0\n",
       "Cabin            0\n",
       "Embarked         0\n",
       "dtype: int64"
      ]
     },
     "execution_count": 18,
     "metadata": {},
     "output_type": "execute_result"
    }
   ],
   "source": [
    "df_all.isnull().sum()"
   ]
  },
  {
   "cell_type": "markdown",
   "execution_count": null,
   "metadata": {},
   "source": [
    "Merge the cabins in three classes. "
   ]
  },
  {
   "cell_type": "code",
   "execution_count": 19,
   "metadata": {},
   "outputs": [],
   "source": [
    "df_all['Cabin'] = df_all['Cabin'].apply(lambda x: x[0])\n",
    "\n",
    "idx = df_all[df_all['Cabin'] == 'T'].index\n",
    "df_all.loc[idx, 'Cabin'] = 'A'\n",
    "\n",
    "df_all['Cabin'] = df_all['Cabin'].replace(['A', 'B', 'C'], 'ABC')\n",
    "df_all['Cabin'] = df_all['Cabin'].replace(['D', 'E'], 'DE')\n",
    "df_all['Cabin'] = df_all['Cabin'].replace(['F', 'G'], 'FG')"
   ]
  },
  {
   "cell_type": "code",
   "execution_count": 20,
   "metadata": {},
   "outputs": [
    {
     "data": {
      "text/plain": [
       "<seaborn.axisgrid.FacetGrid at 0x7f63eed5d278>"
      ]
     },
     "execution_count": 20,
     "metadata": {},
     "output_type": "execute_result"
    },
    {
     "data": {
      "image/png": "[encoded data removed]",
      "text/plain": [
       "<Figure size 1141.98x360 with 3 Axes>"
      ]
     },
     "metadata": {},
     "output_type": "display_data"
    }
   ],
   "source": [
    "train = df_all[:df_len]\n",
    "sns.catplot(x='Survived', hue='Cabin', col='Pclass',kind=\"count\", data=train)"
   ]
  },
  {
   "cell_type": "markdown",
   "execution_count": null,
   "metadata": {},
   "source": [
    "Extract the title from the name, and the surnames"
   ]
  },
  {
   "cell_type": "code",
   "execution_count": 21,
   "metadata": {},
   "outputs": [
    {
     "data": {
      "text/plain": [
       "Mr.        757\n",
       "Miss.      264\n",
       "Mrs.       198\n",
       "Master.     61\n",
       "Noble       29\n",
       "Name: Title, dtype: int64"
      ]
     },
     "execution_count": 21,
     "metadata": {},
     "output_type": "execute_result"
    }
   ],
   "source": [
    "names = df_all['Name'].str.split(',')\n",
    "names = names.apply(lambda x: x[1]).str.split(\" \")\n",
    "names = names.apply(lambda x: x[1])\n",
    "df_all['Title'] = names\n",
    "\n",
    "df_all[\"Title\"] = df_all[\"Title\"].replace(to_replace=[\"Major.\" ,\"Col.\",\"Capt.\",\"the\",\"Don.\",\n",
    "                                                      \"Jonkheer.\",\"Lady.\",\"Sir.\", \"Dona.\",\n",
    "                                                     \"Rev.\", \"Dr.\"], value=\"Noble\") \n",
    "df_all[\"Title\"] = df_all[\"Title\"].replace(to_replace=[\"Mlle.\",\"Ms.\"],value=\"Miss.\") \n",
    "df_all[\"Title\"] = df_all[\"Title\"].replace(to_replace=[\"Mme.\"], value=\"Mrs.\") \n",
    "\n",
    "df_all[\"Title\"].value_counts()"
   ]
  },
  {
   "cell_type": "code",
   "execution_count": 22,
   "metadata": {},
   "outputs": [],
   "source": [
    "surnames = df_all['Name'].str.split(',')\n",
    "surnames = surnames.map(lambda x: x[0])\n",
    "df_all['Surname'] = surnames"
   ]
  },
  {
   "cell_type": "markdown",
   "execution_count": null,
   "metadata": {},
   "source": [
    "### Create new features\n",
    "\n",
    "* Ticket_frequency for the count of each ticket\n",
    "* Family that's the union of SibSp + Parch + 1 (the person itself)\n",
    "* The Family is mapped by size (alone, small, medium and large)\n",
    "* The FareBin maps the Fare into 4 intervals\n",
    "* The AgeBin maps the Age into 5 intervals"
   ]
  },
  {
   "cell_type": "code",
   "execution_count": 23,
   "metadata": {},
   "outputs": [],
   "source": [
    "df_all['Ticket_Frequency'] = df_all.groupby('Ticket')['Ticket'].transform('count')\n",
    "\n",
    "df_all['Family'] = df_all['SibSp'] + df_all['Parch'] + 1\n",
    "\n",
    "family_map = {1: 'Alone', 2: 'Small', 3: 'Small', 4: 'Small', 5: 'Medium', 6: 'Medium', 7: 'Large', 8: 'Large', 11: 'Large'}\n",
    "df_all['Family'] = df_all['Family'].map(family_map)\n",
    "\n",
    "df_all['FareBin'] = pd.qcut(df_all['Fare'], 4)\n",
    "\n",
    "df_all['AgeBin'] = pd.cut(df_all['Age'].astype(int), 5)"
   ]
  },
  {
   "cell_type": "markdown",
   "execution_count": null,
   "metadata": {},
   "source": [
    "Drop the columns that will not be used.\n",
    "\n",
    "Factorize the categorical data (**One hot encoding** for the Sex feature)."
   ]
  },
  {
   "cell_type": "code",
   "execution_count": 24,
   "metadata": {},
   "outputs": [
    {
     "data": {
      "text/html": [
       "<div>\n",
       "<style scoped>\n",
       "    .dataframe tbody tr th:only-of-type {\n",
       "        vertical-align: middle;\n",
       "    }\n",
       "\n",
       "    .dataframe tbody tr th {\n",
       "        vertical-align: top;\n",
       "    }\n",
       "\n",
       "    .dataframe thead th {\n",
       "        text-align: right;\n",
       "    }\n",
       "</style>\n",
       "<table border=\"1\" class=\"dataframe\">\n",
       "  <thead>\n",
       "    <tr style=\"text-align: right;\">\n",
       "      <th></th>\n",
       "      <th>Survived</th>\n",
       "      <th>Pclass</th>\n",
       "      <th>Cabin</th>\n",
       "      <th>Embarked</th>\n",
       "      <th>Title</th>\n",
       "      <th>Surname</th>\n",
       "      <th>Ticket_Frequency</th>\n",
       "      <th>Family</th>\n",
       "      <th>FareBin</th>\n",
       "      <th>AgeBin</th>\n",
       "      <th>Sex_female</th>\n",
       "      <th>Sex_male</th>\n",
       "    </tr>\n",
       "  </thead>\n",
       "  <tbody>\n",
       "    <tr>\n",
       "      <th>0</th>\n",
       "      <td>0.0</td>\n",
       "      <td>3</td>\n",
       "      <td>3</td>\n",
       "      <td>2</td>\n",
       "      <td>2</td>\n",
       "      <td>100</td>\n",
       "      <td>1</td>\n",
       "      <td>3</td>\n",
       "      <td>0</td>\n",
       "      <td>1</td>\n",
       "      <td>0</td>\n",
       "      <td>1</td>\n",
       "    </tr>\n",
       "    <tr>\n",
       "      <th>1</th>\n",
       "      <td>1.0</td>\n",
       "      <td>1</td>\n",
       "      <td>0</td>\n",
       "      <td>0</td>\n",
       "      <td>3</td>\n",
       "      <td>182</td>\n",
       "      <td>2</td>\n",
       "      <td>3</td>\n",
       "      <td>3</td>\n",
       "      <td>2</td>\n",
       "      <td>1</td>\n",
       "      <td>0</td>\n",
       "    </tr>\n",
       "    <tr>\n",
       "      <th>2</th>\n",
       "      <td>1.0</td>\n",
       "      <td>3</td>\n",
       "      <td>3</td>\n",
       "      <td>2</td>\n",
       "      <td>1</td>\n",
       "      <td>329</td>\n",
       "      <td>1</td>\n",
       "      <td>0</td>\n",
       "      <td>1</td>\n",
       "      <td>1</td>\n",
       "      <td>1</td>\n",
       "      <td>0</td>\n",
       "    </tr>\n",
       "    <tr>\n",
       "      <th>3</th>\n",
       "      <td>1.0</td>\n",
       "      <td>1</td>\n",
       "      <td>0</td>\n",
       "      <td>2</td>\n",
       "      <td>3</td>\n",
       "      <td>267</td>\n",
       "      <td>2</td>\n",
       "      <td>3</td>\n",
       "      <td>3</td>\n",
       "      <td>2</td>\n",
       "      <td>1</td>\n",
       "      <td>0</td>\n",
       "    </tr>\n",
       "    <tr>\n",
       "      <th>4</th>\n",
       "      <td>0.0</td>\n",
       "      <td>3</td>\n",
       "      <td>3</td>\n",
       "      <td>2</td>\n",
       "      <td>2</td>\n",
       "      <td>15</td>\n",
       "      <td>1</td>\n",
       "      <td>0</td>\n",
       "      <td>1</td>\n",
       "      <td>2</td>\n",
       "      <td>0</td>\n",
       "      <td>1</td>\n",
       "    </tr>\n",
       "  </tbody>\n",
       "</table>\n",
       "</div>"
      ],
      "text/plain": [
       "   Survived  Pclass  Cabin  Embarked  Title  Surname  Ticket_Frequency  \\\n",
       "0       0.0       3      3         2      2      100                 1   \n",
       "1       1.0       1      0         0      3      182                 2   \n",
       "2       1.0       3      3         2      1      329                 1   \n",
       "3       1.0       1      0         2      3      267                 2   \n",
       "4       0.0       3      3         2      2       15                 1   \n",
       "\n",
       "   Family  FareBin  AgeBin  Sex_female  Sex_male  \n",
       "0       3        0       1           0         1  \n",
       "1       3        3       2           1         0  \n",
       "2       0        1       1           1         0  \n",
       "3       3        3       2           1         0  \n",
       "4       0        1       2           0         1  "
      ]
     },
     "execution_count": 24,
     "metadata": {},
     "output_type": "execute_result"
    }
   ],
   "source": [
    "df_all = df_all.drop(['SibSp','Parch','Fare','Age','Name','Ticket','PassengerId'], axis=1)\n",
    "\n",
    "# df_all[\"Sex\"], _ = pd.factorize(df_all[\"Sex\"], sort=True)\n",
    "df_all[\"Embarked\"], _ = pd.factorize(df_all[\"Embarked\"], sort=True)\n",
    "df_all[\"Title\"], _ = pd.factorize(df_all[\"Title\"], sort=True)\n",
    "df_all[\"Cabin\"], _ = pd.factorize(df_all[\"Cabin\"], sort=True)\n",
    "df_all[\"AgeBin\"], _ = pd.factorize(df_all[\"AgeBin\"], sort=True)\n",
    "df_all[\"FareBin\"], _ = pd.factorize(df_all[\"FareBin\"], sort=True)\n",
    "df_all[\"Family\"], _ = pd.factorize(df_all[\"Family\"], sort=True)\n",
    "df_all[\"Surname\"], _ = pd.factorize(df_all[\"Surname\"], sort=True)\n",
    "\n",
    "df_all = pd.get_dummies(df_all) #Sex\n",
    "df_all.head()"
   ]
  },
  {
   "cell_type": "markdown",
   "execution_count": null,
   "metadata": {},
   "source": [
    "Separate train and test datasets"
   ]
  },
  {
   "cell_type": "code",
   "execution_count": 25,
   "metadata": {},
   "outputs": [],
   "source": [
    "X = df_all[:df_len]\n",
    "X_test = df_all[df_len:]"
   ]
  },
  {
   "cell_type": "markdown",
   "execution_count": null,
   "metadata": {},
   "source": [
    "See the correlation between the variables"
   ]
  },
  {
   "cell_type": "code",
   "execution_count": 26,
   "metadata": {},
   "outputs": [
    {
     "data": {
      "image/png": "[encoded data removed]",
      "text/plain": [
       "<Figure size 504x504 with 2 Axes>"
      ]
     },
     "metadata": {},
     "output_type": "display_data"
    }
   ],
   "source": [
    "corr = X.corr()\n",
    "fig, ax = plt.subplots(figsize=(7,7))\n",
    "ax = sns.heatmap(\n",
    "    corr, \n",
    "    vmin=-1, vmax=1, center=0,\n",
    "    cmap=sns.diverging_palette(20, 220, n=200),\n",
    "    square=True,\n",
    "    ax=ax\n",
    ")\n",
    "ax.set_xticklabels(\n",
    "    ax.get_xticklabels(),\n",
    "    rotation=45,\n",
    "    horizontalalignment='right'\n",
    ");"
   ]
  },
  {
   "cell_type": "markdown",
   "execution_count": null,
   "metadata": {},
   "source": [
    "Create Y and drop the *Survived* column."
   ]
  },
  {
   "cell_type": "code",
   "execution_count": 27,
   "metadata": {},
   "outputs": [],
   "source": [
    "Y = X['Survived']\n",
    "X = X.drop('Survived', axis=1)\n",
    "X_test = X_test.drop('Survived', axis=1)"
   ]
  },
  {
   "cell_type": "markdown",
   "execution_count": null,
   "metadata": {},
   "source": [
    "# 4. *Re-sampling* of imbalanced data\n",
    "\n",
    "We'll create new data using the *make_imbalance* method. This method is going to balance the data too (Survived=0 == Survived=1)."
   ]
  },
  {
   "cell_type": "code",
   "execution_count": 28,
   "metadata": {},
   "outputs": [
    {
     "data": {
      "text/plain": [
       "5310"
      ]
     },
     "execution_count": 28,
     "metadata": {},
     "output_type": "execute_result"
    }
   ],
   "source": [
    "from collections import Counter\n",
    "\n",
    "def ratio_func(y, multiplier, minority_class):\n",
    "    target_stats = Counter(y)\n",
    "    return {minority_class: int(multiplier * target_stats[minority_class])}\n",
    "\n",
    "multipliers = [0.6, 0.4, 0.2]\n",
    "for i, multiplier in enumerate(multipliers, start=1):\n",
    "\n",
    "    X_, y_ = make_imbalance(X, Y, sampling_strategy=ratio_func,\n",
    "                            **{\"multiplier\": multiplier,\n",
    "                               \"minority_class\": 1})\n",
    "    \n",
    "    X = X.append(X_)\n",
    "    Y = Y.append(y_)\n",
    "    \n",
    "len(Y)"
   ]
  },
  {
   "cell_type": "markdown",
   "execution_count": null,
   "metadata": {},
   "source": [
    "# 5. Training the *Random Forest* Algorithm with the *Bagging Classifier*"
   ]
  },
  {
   "cell_type": "markdown",
   "execution_count": null,
   "metadata": {},
   "source": [
    "Scale the data between -1 and 1."
   ]
  },
  {
   "cell_type": "code",
   "execution_count": 29,
   "metadata": {},
   "outputs": [],
   "source": [
    "from sklearn.preprocessing import StandardScaler\n",
    "\n",
    "ss = StandardScaler()\n",
    "ss.fit(X)\n",
    "X = ss.transform(X)\n",
    "X_test = ss.transform(X_test)\n",
    "\n",
    "Y = Y.values"
   ]
  },
  {
   "cell_type": "markdown",
   "execution_count": null,
   "metadata": {},
   "source": [
    "Split into train and validation sets."
   ]
  },
  {
   "cell_type": "code",
   "execution_count": 30,
   "metadata": {},
   "outputs": [
    {
     "name": "stdout",
     "output_type": "stream",
     "text": [
      "X_train: (3717, 11), x_test (1593, 11), y_train (3717,), y_test (1593,)\n"
     ]
    }
   ],
   "source": [
    "X_train, x_test, y_train, y_test = train_test_split(X,Y, test_size=0.3, random_state=42)\n",
    "\n",
    "print('X_train: {}, x_test {}, y_train {}, y_test {}'.format(X_train.shape, x_test.shape, y_train.shape, y_test.shape))"
   ]
  },
  {
   "cell_type": "markdown",
   "execution_count": null,
   "metadata": {},
   "source": [
    "Training. The RandomForestClassified parameters was chosen using the GridSearchCV."
   ]
  },
  {
   "cell_type": "code",
   "execution_count": 31,
   "metadata": {},
   "outputs": [
    {
     "name": "stdout",
     "output_type": "stream",
     "text": [
      "Accuracy: 0.9497802887633396\n"
     ]
    }
   ],
   "source": [
    "rf = RandomForestClassifier(bootstrap=True, ccp_alpha=0.0, class_weight=None,\n",
    "                       criterion='gini', max_depth=10, max_features='sqrt',\n",
    "                       max_leaf_nodes=None, max_samples=None,\n",
    "                       min_impurity_decrease=0.0, min_impurity_split=None,\n",
    "                       min_samples_leaf=2, min_samples_split=2,\n",
    "                       min_weight_fraction_leaf=0.0, n_estimators=1000, n_jobs=4,\n",
    "                       oob_score=True, verbose=0,\n",
    "                       )\n",
    "\n",
    "model = BaggingClassifier(base_estimator=rf, n_estimators=10, random_state=0)\n",
    "\n",
    "model.fit(X_train, y_train)\n",
    "\n",
    "y_pred = model.predict(x_test)\n",
    "acc = accuracy_score(y_test, y_pred)\n",
    "print(\"Accuracy: {}\".format(acc))"
   ]
  },
  {
   "cell_type": "markdown",
   "execution_count": null,
   "metadata": {},
   "source": [
    "See the most important features"
   ]
  },
  {
   "cell_type": "code",
   "execution_count": 32,
   "metadata": {},
   "outputs": [
    {
     "data": {
      "text/html": [
       "<style  type=\"text/css\" >\n",
       "    #T_9d02d99a_9baa_11ea_b27a_0242ac130202row0_col0 {\n",
       "            width:  10em;\n",
       "             height:  80%;\n",
       "            background:  linear-gradient(90deg,#d65f5f 60.0%, transparent 60.0%);\n",
       "        }    #T_9d02d99a_9baa_11ea_b27a_0242ac130202row1_col0 {\n",
       "            width:  10em;\n",
       "             height:  80%;\n",
       "            background:  linear-gradient(90deg,#d65f5f 21.6%, transparent 21.6%);\n",
       "        }    #T_9d02d99a_9baa_11ea_b27a_0242ac130202row2_col0 {\n",
       "            width:  10em;\n",
       "             height:  80%;\n",
       "        }    #T_9d02d99a_9baa_11ea_b27a_0242ac130202row3_col0 {\n",
       "            width:  10em;\n",
       "             height:  80%;\n",
       "            background:  linear-gradient(90deg,#d65f5f 36.1%, transparent 36.1%);\n",
       "        }    #T_9d02d99a_9baa_11ea_b27a_0242ac130202row4_col0 {\n",
       "            width:  10em;\n",
       "             height:  80%;\n",
       "            background:  linear-gradient(90deg,#d65f5f 100.0%, transparent 100.0%);\n",
       "        }    #T_9d02d99a_9baa_11ea_b27a_0242ac130202row5_col0 {\n",
       "            width:  10em;\n",
       "             height:  80%;\n",
       "            background:  linear-gradient(90deg,#d65f5f 33.7%, transparent 33.7%);\n",
       "        }    #T_9d02d99a_9baa_11ea_b27a_0242ac130202row6_col0 {\n",
       "            width:  10em;\n",
       "             height:  80%;\n",
       "            background:  linear-gradient(90deg,#d65f5f 6.3%, transparent 6.3%);\n",
       "        }    #T_9d02d99a_9baa_11ea_b27a_0242ac130202row7_col0 {\n",
       "            width:  10em;\n",
       "             height:  80%;\n",
       "            background:  linear-gradient(90deg,#d65f5f 10.1%, transparent 10.1%);\n",
       "        }    #T_9d02d99a_9baa_11ea_b27a_0242ac130202row8_col0 {\n",
       "            width:  10em;\n",
       "             height:  80%;\n",
       "            background:  linear-gradient(90deg,#d65f5f 13.4%, transparent 13.4%);\n",
       "        }    #T_9d02d99a_9baa_11ea_b27a_0242ac130202row9_col0 {\n",
       "            width:  10em;\n",
       "             height:  80%;\n",
       "            background:  linear-gradient(90deg,#d65f5f 52.5%, transparent 52.5%);\n",
       "        }    #T_9d02d99a_9baa_11ea_b27a_0242ac130202row10_col0 {\n",
       "            width:  10em;\n",
       "             height:  80%;\n",
       "            background:  linear-gradient(90deg,#d65f5f 64.0%, transparent 64.0%);\n",
       "        }</style><table id=\"T_9d02d99a_9baa_11ea_b27a_0242ac130202\" ><thead>    <tr>        <th class=\"blank level0\" ></th>        <th class=\"col_heading level0 col0\" >0</th>    </tr></thead><tbody>\n",
       "                <tr>\n",
       "                        <th id=\"T_9d02d99a_9baa_11ea_b27a_0242ac130202level0_row0\" class=\"row_heading level0 row0\" >Pclass</th>\n",
       "                        <td id=\"T_9d02d99a_9baa_11ea_b27a_0242ac130202row0_col0\" class=\"data row0 col0\" >0.128621</td>\n",
       "            </tr>\n",
       "            <tr>\n",
       "                        <th id=\"T_9d02d99a_9baa_11ea_b27a_0242ac130202level0_row1\" class=\"row_heading level0 row1\" >Cabin</th>\n",
       "                        <td id=\"T_9d02d99a_9baa_11ea_b27a_0242ac130202row1_col0\" class=\"data row1 col0\" >0.0678246</td>\n",
       "            </tr>\n",
       "            <tr>\n",
       "                        <th id=\"T_9d02d99a_9baa_11ea_b27a_0242ac130202level0_row2\" class=\"row_heading level0 row2\" >Embarked</th>\n",
       "                        <td id=\"T_9d02d99a_9baa_11ea_b27a_0242ac130202row2_col0\" class=\"data row2 col0\" >0.0336905</td>\n",
       "            </tr>\n",
       "            <tr>\n",
       "                        <th id=\"T_9d02d99a_9baa_11ea_b27a_0242ac130202level0_row3\" class=\"row_heading level0 row3\" >Title</th>\n",
       "                        <td id=\"T_9d02d99a_9baa_11ea_b27a_0242ac130202row3_col0\" class=\"data row3 col0\" >0.0908898</td>\n",
       "            </tr>\n",
       "            <tr>\n",
       "                        <th id=\"T_9d02d99a_9baa_11ea_b27a_0242ac130202level0_row4\" class=\"row_heading level0 row4\" >Family</th>\n",
       "                        <td id=\"T_9d02d99a_9baa_11ea_b27a_0242ac130202row4_col0\" class=\"data row4 col0\" >0.192027</td>\n",
       "            </tr>\n",
       "            <tr>\n",
       "                        <th id=\"T_9d02d99a_9baa_11ea_b27a_0242ac130202level0_row5\" class=\"row_heading level0 row5\" >Ticket_Frequency</th>\n",
       "                        <td id=\"T_9d02d99a_9baa_11ea_b27a_0242ac130202row5_col0\" class=\"data row5 col0\" >0.0871073</td>\n",
       "            </tr>\n",
       "            <tr>\n",
       "                        <th id=\"T_9d02d99a_9baa_11ea_b27a_0242ac130202level0_row6\" class=\"row_heading level0 row6\" >FareBin</th>\n",
       "                        <td id=\"T_9d02d99a_9baa_11ea_b27a_0242ac130202row6_col0\" class=\"data row6 col0\" >0.0436056</td>\n",
       "            </tr>\n",
       "            <tr>\n",
       "                        <th id=\"T_9d02d99a_9baa_11ea_b27a_0242ac130202level0_row7\" class=\"row_heading level0 row7\" >AgeBin</th>\n",
       "                        <td id=\"T_9d02d99a_9baa_11ea_b27a_0242ac130202row7_col0\" class=\"data row7 col0\" >0.0496568</td>\n",
       "            </tr>\n",
       "            <tr>\n",
       "                        <th id=\"T_9d02d99a_9baa_11ea_b27a_0242ac130202level0_row8\" class=\"row_heading level0 row8\" >Sex_female</th>\n",
       "                        <td id=\"T_9d02d99a_9baa_11ea_b27a_0242ac130202row8_col0\" class=\"data row8 col0\" >0.054866</td>\n",
       "            </tr>\n",
       "            <tr>\n",
       "                        <th id=\"T_9d02d99a_9baa_11ea_b27a_0242ac130202level0_row9\" class=\"row_heading level0 row9\" >Sex_male</th>\n",
       "                        <td id=\"T_9d02d99a_9baa_11ea_b27a_0242ac130202row9_col0\" class=\"data row9 col0\" >0.116738</td>\n",
       "            </tr>\n",
       "            <tr>\n",
       "                        <th id=\"T_9d02d99a_9baa_11ea_b27a_0242ac130202level0_row10\" class=\"row_heading level0 row10\" >Surname</th>\n",
       "                        <td id=\"T_9d02d99a_9baa_11ea_b27a_0242ac130202row10_col0\" class=\"data row10 col0\" >0.134973</td>\n",
       "            </tr>\n",
       "    </tbody></table>"
      ],
      "text/plain": [
       "<pandas.io.formats.style.Styler at 0x7f63bdd6ecc0>"
      ]
     },
     "metadata": {},
     "output_type": "display_data"
    }
   ],
   "source": [
    "rf.fit(X, Y)\n",
    "index = [\"Pclass\", \"Cabin\", \"Embarked\", \"Title\", \"Family\", \"Ticket_Frequency\", \"FareBin\", \"AgeBin\", \"Sex_female\", \"Sex_male\", \"Surname\"]\n",
    "fi = pd.DataFrame(rf.feature_importances_, index=index)\n",
    "display(fi.style.bar(color='#d65f5f'))"
   ]
  },
  {
   "cell_type": "markdown",
   "execution_count": null,
   "metadata": {},
   "source": [
    "# 6. Predict and save"
   ]
  },
  {
   "cell_type": "code",
   "execution_count": 33,
   "metadata": {},
   "outputs": [],
   "source": [
    "prediction = model.predict(X_test)\n",
    "\n",
    "prediction = prediction.reshape(prediction.shape[0])\n",
    "prediction = np.round(prediction,0)\n",
    "prediction = prediction.astype(int)"
   ]
  },
  {
   "cell_type": "code",
   "execution_count": 34,
   "metadata": {},
   "outputs": [
    {
     "data": {
      "text/html": [
       "<div>\n",
       "<style scoped>\n",
       "    .dataframe tbody tr th:only-of-type {\n",
       "        vertical-align: middle;\n",
       "    }\n",
       "\n",
       "    .dataframe tbody tr th {\n",
       "        vertical-align: top;\n",
       "    }\n",
       "\n",
       "    .dataframe thead th {\n",
       "        text-align: right;\n",
       "    }\n",
       "</style>\n",
       "<table border=\"1\" class=\"dataframe\">\n",
       "  <thead>\n",
       "    <tr style=\"text-align: right;\">\n",
       "      <th></th>\n",
       "      <th>PassengerId</th>\n",
       "      <th>Survived</th>\n",
       "    </tr>\n",
       "  </thead>\n",
       "  <tbody>\n",
       "    <tr>\n",
       "      <th>0</th>\n",
       "      <td>892</td>\n",
       "      <td>0</td>\n",
       "    </tr>\n",
       "    <tr>\n",
       "      <th>1</th>\n",
       "      <td>893</td>\n",
       "      <td>0</td>\n",
       "    </tr>\n",
       "    <tr>\n",
       "      <th>2</th>\n",
       "      <td>894</td>\n",
       "      <td>0</td>\n",
       "    </tr>\n",
       "    <tr>\n",
       "      <th>3</th>\n",
       "      <td>895</td>\n",
       "      <td>0</td>\n",
       "    </tr>\n",
       "    <tr>\n",
       "      <th>4</th>\n",
       "      <td>896</td>\n",
       "      <td>0</td>\n",
       "    </tr>\n",
       "  </tbody>\n",
       "</table>\n",
       "</div>"
      ],
      "text/plain": [
       "   PassengerId  Survived\n",
       "0          892         0\n",
       "1          893         0\n",
       "2          894         0\n",
       "3          895         0\n",
       "4          896         0"
      ]
     },
     "execution_count": 34,
     "metadata": {},
     "output_type": "execute_result"
    }
   ],
   "source": [
    "sample[\"Survived\"] = prediction\n",
    "sample.to_csv(\"submission.csv\", index=False)\n",
    "sample.head()"
   ]
  }
 ],
 "metadata": {
  "kernelspec": {
   "display_name": "Python 3",
   "language": "python",
   "name": "python3"
  },
  "language_info": {
   "codemirror_mode": {
    "name": "ipython",
    "version": 3
   },
   "file_extension": ".py",
   "mimetype": "text/x-python",
   "name": "python",
   "nbconvert_exporter": "python",
   "pygments_lexer": "ipython3",
   "version": "3.6.6"
  }
 },
 "nbformat": 4,
 "nbformat_minor": 4
}
